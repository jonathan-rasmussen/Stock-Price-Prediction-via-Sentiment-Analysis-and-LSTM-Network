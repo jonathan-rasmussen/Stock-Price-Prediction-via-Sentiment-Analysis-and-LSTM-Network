{
 "cells": [
  {
   "cell_type": "code",
   "execution_count": 1,
   "metadata": {
    "_cell_guid": "b1076dfc-b9ad-4769-8c92-a6c4dae69d19",
    "_uuid": "8f2839f25d086af736a60e9eeb907d3b93b6e0e5",
    "execution": {
     "iopub.execute_input": "2021-04-17T01:16:50.345249Z",
     "iopub.status.busy": "2021-04-17T01:16:50.344289Z",
     "iopub.status.idle": "2021-04-17T01:16:54.824478Z",
     "shell.execute_reply": "2021-04-17T01:16:54.825667Z"
    },
    "papermill": {
     "duration": 4.523304,
     "end_time": "2021-04-17T01:16:54.826102",
     "exception": false,
     "start_time": "2021-04-17T01:16:50.302798",
     "status": "completed"
    },
    "tags": []
   },
   "outputs": [
    {
     "name": "stderr",
     "output_type": "stream",
     "text": [
      "/opt/conda/lib/python3.7/site-packages/nltk/twitter/__init__.py:20: UserWarning: The twython library has not been installed. Some functionality from the twitter package will not be available.\n",
      "  warnings.warn(\"The twython library has not been installed. \"\n"
     ]
    },
    {
     "name": "stdout",
     "output_type": "stream",
     "text": [
      "[nltk_data] Downloading package vader_lexicon to\n",
      "[nltk_data]     /usr/share/nltk_data...\n",
      "[nltk_data]   Package vader_lexicon is already up-to-date!\n",
      "/kaggle/input/reddit-rwallstreetbets/r_wallstreetbets_posts.csv\n"
     ]
    }
   ],
   "source": [
    "# This Python 3 environment comes with many helpful analytics libraries installed\n",
    "# It is defined by the kaggle/python Docker image: https://github.com/kaggle/docker-python\n",
    "# For example, here's several helpful packages to load\n",
    "\n",
    "import numpy as np # linear algebra\n",
    "import pandas as pd # data processing, CSV file I/O (e.g. pd.read_csv)\n",
    "import nltk\n",
    "import matplotlib.pyplot as plt\n",
    "import seaborn as sns\n",
    "from nltk.sentiment.vader import SentimentIntensityAnalyzer as SIA\n",
    "nltk.download('vader_lexicon')\n",
    "from datetime import datetime\n",
    "import spacy as sp\n",
    "nlps = sp.load('en')\n",
    "from spacy.matcher import PhraseMatcher, Matcher\n",
    "from collections import Counter, defaultdict\n",
    "\n",
    "# Input data files are available in the read-only \"../input/\" directory\n",
    "# For example, running this (by clicking run or pressing Shift+Enter) will list all files under the input directory\n",
    "\n",
    "import os\n",
    "for dirname, _, filenames in os.walk('/kaggle/input'):\n",
    "    for filename in filenames:\n",
    "        print(os.path.join(dirname, filename))\n",
    "\n",
    "# You can write up to 20GB to the current directory (/kaggle/working/) that gets preserved as output when you create a version using \"Save & Run All\" \n",
    "# You can also write temporary files to /kaggle/temp/, but they won't be saved outside of the current session"
   ]
  },
  {
   "cell_type": "markdown",
   "metadata": {
    "papermill": {
     "duration": 0.029626,
     "end_time": "2021-04-17T01:16:54.889303",
     "exception": false,
     "start_time": "2021-04-17T01:16:54.859677",
     "status": "completed"
    },
    "tags": []
   },
   "source": [
    "# Preprocessing"
   ]
  },
  {
   "cell_type": "code",
   "execution_count": 2,
   "metadata": {
    "execution": {
     "iopub.execute_input": "2021-04-17T01:16:54.956371Z",
     "iopub.status.busy": "2021-04-17T01:16:54.955608Z",
     "iopub.status.idle": "2021-04-17T01:17:04.202072Z",
     "shell.execute_reply": "2021-04-17T01:17:04.201419Z"
    },
    "papermill": {
     "duration": 9.281544,
     "end_time": "2021-04-17T01:17:04.202268",
     "exception": false,
     "start_time": "2021-04-17T01:16:54.920724",
     "status": "completed"
    },
    "tags": []
   },
   "outputs": [
    {
     "name": "stderr",
     "output_type": "stream",
     "text": [
      "/opt/conda/lib/python3.7/site-packages/IPython/core/interactiveshell.py:3147: DtypeWarning: Columns (5,7) have mixed types.Specify dtype option on import or set low_memory=False.\n",
      "  interactivity=interactivity, compiler=compiler, result=result)\n"
     ]
    },
    {
     "data": {
      "text/plain": [
       "(1118863, 12)"
      ]
     },
     "execution_count": 2,
     "metadata": {},
     "output_type": "execute_result"
    }
   ],
   "source": [
    "data = pd.read_csv('/kaggle/input/reddit-rwallstreetbets/r_wallstreetbets_posts.csv')\n",
    "data.shape"
   ]
  },
  {
   "cell_type": "markdown",
   "metadata": {
    "papermill": {
     "duration": 0.034373,
     "end_time": "2021-04-17T01:17:04.270022",
     "exception": false,
     "start_time": "2021-04-17T01:17:04.235649",
     "status": "completed"
    },
    "tags": []
   },
   "source": [
    "## Import tickers list"
   ]
  },
  {
   "cell_type": "code",
   "execution_count": 3,
   "metadata": {
    "execution": {
     "iopub.execute_input": "2021-04-17T01:17:04.350579Z",
     "iopub.status.busy": "2021-04-17T01:17:04.348525Z",
     "iopub.status.idle": "2021-04-17T01:17:05.305983Z",
     "shell.execute_reply": "2021-04-17T01:17:05.306711Z"
    },
    "papermill": {
     "duration": 1.000407,
     "end_time": "2021-04-17T01:17:05.306899",
     "exception": false,
     "start_time": "2021-04-17T01:17:04.306492",
     "status": "completed"
    },
    "tags": []
   },
   "outputs": [
    {
     "name": "stdout",
     "output_type": "stream",
     "text": [
      "ticker.txt has been downloaded\n"
     ]
    }
   ],
   "source": [
    "# load tickers\n",
    "import requests # allows for file downloading\n",
    "import os\n",
    "\n",
    "filename = 'ticker.txt'\n",
    "url = 'https://www.sec.gov/include/ticker.txt'\n",
    "if os.path.exists(filename):\n",
    "    print(f'{filename} already downloaded')\n",
    "else:\n",
    "    r = requests.get(url, allow_redirects=True)\n",
    "    with open(filename, 'wb') as file:\n",
    "        file.write(r.content)\n",
    "    print(f'{filename} has been downloaded')\n",
    "\n"
   ]
  },
  {
   "cell_type": "code",
   "execution_count": 4,
   "metadata": {
    "execution": {
     "iopub.execute_input": "2021-04-17T01:17:05.378323Z",
     "iopub.status.busy": "2021-04-17T01:17:05.377642Z",
     "iopub.status.idle": "2021-04-17T01:17:05.390851Z",
     "shell.execute_reply": "2021-04-17T01:17:05.390187Z"
    },
    "papermill": {
     "duration": 0.0518,
     "end_time": "2021-04-17T01:17:05.390998",
     "exception": false,
     "start_time": "2021-04-17T01:17:05.339198",
     "status": "completed"
    },
    "tags": []
   },
   "outputs": [],
   "source": [
    "# put tickers into dataframe\n",
    "tickers = pd.read_csv('ticker.txt', delimiter = \"\\t\", header=None)\n",
    "tickers.columns = ['symbol', 'code']"
   ]
  },
  {
   "cell_type": "code",
   "execution_count": 5,
   "metadata": {
    "execution": {
     "iopub.execute_input": "2021-04-17T01:17:05.486971Z",
     "iopub.status.busy": "2021-04-17T01:17:05.484157Z",
     "iopub.status.idle": "2021-04-17T01:17:05.533770Z",
     "shell.execute_reply": "2021-04-17T01:17:05.532661Z"
    },
    "papermill": {
     "duration": 0.109742,
     "end_time": "2021-04-17T01:17:05.533928",
     "exception": false,
     "start_time": "2021-04-17T01:17:05.424186",
     "status": "completed"
    },
    "tags": []
   },
   "outputs": [
    {
     "name": "stdout",
     "output_type": "stream",
     "text": [
      "symbol       HUIZ\n",
      "code      1778982\n",
      "Name: 4101, dtype: object\n",
      "False\n"
     ]
    },
    {
     "data": {
      "text/html": [
       "<div>\n",
       "<style scoped>\n",
       "    .dataframe tbody tr th:only-of-type {\n",
       "        vertical-align: middle;\n",
       "    }\n",
       "\n",
       "    .dataframe tbody tr th {\n",
       "        vertical-align: top;\n",
       "    }\n",
       "\n",
       "    .dataframe thead th {\n",
       "        text-align: right;\n",
       "    }\n",
       "</style>\n",
       "<table border=\"1\" class=\"dataframe\">\n",
       "  <thead>\n",
       "    <tr style=\"text-align: right;\">\n",
       "      <th></th>\n",
       "      <th>symbol</th>\n",
       "      <th>code</th>\n",
       "    </tr>\n",
       "  </thead>\n",
       "  <tbody>\n",
       "    <tr>\n",
       "      <th>0</th>\n",
       "      <td>AAPL</td>\n",
       "      <td>320193</td>\n",
       "    </tr>\n",
       "    <tr>\n",
       "      <th>1</th>\n",
       "      <td>MSFT</td>\n",
       "      <td>789019</td>\n",
       "    </tr>\n",
       "    <tr>\n",
       "      <th>2</th>\n",
       "      <td>AMZN</td>\n",
       "      <td>1018724</td>\n",
       "    </tr>\n",
       "    <tr>\n",
       "      <th>3</th>\n",
       "      <td>GOOG</td>\n",
       "      <td>1652044</td>\n",
       "    </tr>\n",
       "    <tr>\n",
       "      <th>4</th>\n",
       "      <td>FB</td>\n",
       "      <td>1326801</td>\n",
       "    </tr>\n",
       "  </tbody>\n",
       "</table>\n",
       "</div>"
      ],
      "text/plain": [
       "  symbol     code\n",
       "0   AAPL   320193\n",
       "1   MSFT   789019\n",
       "2   AMZN  1018724\n",
       "3   GOOG  1652044\n",
       "4     FB  1326801"
      ]
     },
     "execution_count": 5,
     "metadata": {},
     "output_type": "execute_result"
    }
   ],
   "source": [
    "# Note: some tickers are the same as common words or letters such as NAN, K, AND\n",
    "tickers['symbol'] = tickers['symbol'].str.upper() \n",
    "print(tickers.iloc[4101])\n",
    "# dropping 'NAN' North American Nickel ticker for now\n",
    "tickers = tickers.dropna()\n",
    "print(tickers.isnull().values.any())\n",
    "tickers.head()"
   ]
  },
  {
   "cell_type": "markdown",
   "metadata": {
    "papermill": {
     "duration": 0.033791,
     "end_time": "2021-04-17T01:17:05.601427",
     "exception": false,
     "start_time": "2021-04-17T01:17:05.567636",
     "status": "completed"
    },
    "tags": []
   },
   "source": [
    "## Drop columns"
   ]
  },
  {
   "cell_type": "code",
   "execution_count": 6,
   "metadata": {
    "execution": {
     "iopub.execute_input": "2021-04-17T01:17:05.814384Z",
     "iopub.status.busy": "2021-04-17T01:17:05.813382Z",
     "iopub.status.idle": "2021-04-17T01:17:05.817037Z",
     "shell.execute_reply": "2021-04-17T01:17:05.816497Z"
    },
    "papermill": {
     "duration": 0.182253,
     "end_time": "2021-04-17T01:17:05.817221",
     "exception": false,
     "start_time": "2021-04-17T01:17:05.634968",
     "status": "completed"
    },
    "tags": []
   },
   "outputs": [],
   "source": [
    "data = data.drop(columns = ['awarders', 'over_18', 'author_flair_text', 'removed_by'])"
   ]
  },
  {
   "cell_type": "markdown",
   "metadata": {
    "papermill": {
     "duration": 0.035451,
     "end_time": "2021-04-17T01:17:05.886336",
     "exception": false,
     "start_time": "2021-04-17T01:17:05.850885",
     "status": "completed"
    },
    "tags": []
   },
   "source": [
    "## Add date as column"
   ]
  },
  {
   "cell_type": "code",
   "execution_count": 7,
   "metadata": {
    "execution": {
     "iopub.execute_input": "2021-04-17T01:17:05.961814Z",
     "iopub.status.busy": "2021-04-17T01:17:05.960967Z",
     "iopub.status.idle": "2021-04-17T01:17:06.593935Z",
     "shell.execute_reply": "2021-04-17T01:17:06.593398Z"
    },
    "papermill": {
     "duration": 0.67262,
     "end_time": "2021-04-17T01:17:06.594087",
     "exception": false,
     "start_time": "2021-04-17T01:17:05.921467",
     "status": "completed"
    },
    "tags": []
   },
   "outputs": [],
   "source": [
    "data['date'] = pd.to_datetime(data['created_utc'], unit='s').dt.date"
   ]
  },
  {
   "cell_type": "code",
   "execution_count": 8,
   "metadata": {
    "execution": {
     "iopub.execute_input": "2021-04-17T01:17:06.675174Z",
     "iopub.status.busy": "2021-04-17T01:17:06.673882Z",
     "iopub.status.idle": "2021-04-17T01:17:08.142647Z",
     "shell.execute_reply": "2021-04-17T01:17:08.141578Z"
    },
    "papermill": {
     "duration": 1.512221,
     "end_time": "2021-04-17T01:17:08.142807",
     "exception": false,
     "start_time": "2021-04-17T01:17:06.630586",
     "status": "completed"
    },
    "tags": []
   },
   "outputs": [
    {
     "name": "stdout",
     "output_type": "stream",
     "text": [
      "Index(['id', 'title', 'score', 'author', 'total_awards_received',\n",
      "       'created_utc', 'full_link', 'num_comments', 'date'],\n",
      "      dtype='object')\n",
      "(1118863, 9)\n",
      "date ranges:  2012-04-11 16:40:40 2021-02-16 09:53:12\n",
      "score range  134840 0\n",
      "num comments range  204551 0\n",
      "scores:  43920 1098686 17150 3027\n",
      "avg score:  27.080198379962514 std score:  746.7225959766157\n"
     ]
    }
   ],
   "source": [
    "print(data.columns)\n",
    "print(data.shape)\n",
    "\n",
    "# analysis of date and scores\n",
    "max_date, min_date = datetime.fromtimestamp(max(data.created_utc)), datetime.fromtimestamp(min(data.created_utc))\n",
    "print('date ranges: ', min_date, max_date)\n",
    "print('score range ', max(data.score), min(data.score))\n",
    "print('num comments range ', max(data.num_comments), min(data.num_comments))\n",
    "\n",
    "# find score and comments distributions\n",
    "no_score_data = data[data.score==0]\n",
    "low_score_data =data[data.score<= 100]\n",
    "mid_score_data = data[(data.score <= 1000) & (data.score > 100)]\n",
    "high_score_data = data[data.score > 1000]\n",
    "print('scores: ', len(no_score_data), len(low_score_data), len(mid_score_data), len(high_score_data))\n",
    "print('avg score: ', np.mean(data.score.values), 'std score: ', np.std(data.score.values))"
   ]
  },
  {
   "cell_type": "code",
   "execution_count": 9,
   "metadata": {
    "execution": {
     "iopub.execute_input": "2021-04-17T01:17:08.221805Z",
     "iopub.status.busy": "2021-04-17T01:17:08.221033Z",
     "iopub.status.idle": "2021-04-17T01:17:08.257468Z",
     "shell.execute_reply": "2021-04-17T01:17:08.257982Z"
    },
    "papermill": {
     "duration": 0.079888,
     "end_time": "2021-04-17T01:17:08.258183",
     "exception": false,
     "start_time": "2021-04-17T01:17:08.178295",
     "status": "completed"
    },
    "tags": []
   },
   "outputs": [
    {
     "name": "stdout",
     "output_type": "stream",
     "text": [
      "comments avg and std:  496.93440145102784 3791.780930431707\n",
      "(59544, 9)\n"
     ]
    }
   ],
   "source": [
    "# keep posts with score > 100 or num comments > 100 or total awards > 10\n",
    "# determine best threshold for keeping posts\n",
    "df = data[(data.score >= 100) | (data.num_comments >= 50) | (data.total_awards_received >= 10)] \n",
    "print('comments avg and std: ', df.num_comments.mean(), df.num_comments.std())\n",
    "print(df.shape)"
   ]
  },
  {
   "cell_type": "code",
   "execution_count": 10,
   "metadata": {
    "execution": {
     "iopub.execute_input": "2021-04-17T01:17:08.347343Z",
     "iopub.status.busy": "2021-04-17T01:17:08.346408Z",
     "iopub.status.idle": "2021-04-17T01:17:08.351423Z",
     "shell.execute_reply": "2021-04-17T01:17:08.351920Z"
    },
    "papermill": {
     "duration": 0.058401,
     "end_time": "2021-04-17T01:17:08.352109",
     "exception": false,
     "start_time": "2021-04-17T01:17:08.293708",
     "status": "completed"
    },
    "tags": []
   },
   "outputs": [
    {
     "data": {
      "text/html": [
       "<div>\n",
       "<style scoped>\n",
       "    .dataframe tbody tr th:only-of-type {\n",
       "        vertical-align: middle;\n",
       "    }\n",
       "\n",
       "    .dataframe tbody tr th {\n",
       "        vertical-align: top;\n",
       "    }\n",
       "\n",
       "    .dataframe thead th {\n",
       "        text-align: right;\n",
       "    }\n",
       "</style>\n",
       "<table border=\"1\" class=\"dataframe\">\n",
       "  <thead>\n",
       "    <tr style=\"text-align: right;\">\n",
       "      <th></th>\n",
       "      <th>id</th>\n",
       "      <th>title</th>\n",
       "      <th>score</th>\n",
       "      <th>author</th>\n",
       "      <th>total_awards_received</th>\n",
       "      <th>created_utc</th>\n",
       "      <th>full_link</th>\n",
       "      <th>num_comments</th>\n",
       "      <th>date</th>\n",
       "    </tr>\n",
       "  </thead>\n",
       "  <tbody>\n",
       "    <tr>\n",
       "      <th>92</th>\n",
       "      <td>lkzviy</td>\n",
       "      <td>I am going to short the whole country of South...</td>\n",
       "      <td>1</td>\n",
       "      <td>The-Crazed-Crusader</td>\n",
       "      <td>0.0</td>\n",
       "      <td>1613465649</td>\n",
       "      <td>https://www.reddit.com/r/wallstreetbets/commen...</td>\n",
       "      <td>114</td>\n",
       "      <td>2021-02-16</td>\n",
       "    </tr>\n",
       "    <tr>\n",
       "      <th>185</th>\n",
       "      <td>lkyw58</td>\n",
       "      <td>I like the stonk</td>\n",
       "      <td>1</td>\n",
       "      <td>Allgoodnamesinuse</td>\n",
       "      <td>0.0</td>\n",
       "      <td>1613461282</td>\n",
       "      <td>https://www.reddit.com/r/wallstreetbets/commen...</td>\n",
       "      <td>50</td>\n",
       "      <td>2021-02-16</td>\n",
       "    </tr>\n",
       "    <tr>\n",
       "      <th>256</th>\n",
       "      <td>lky7u6</td>\n",
       "      <td>When you realize losing your hard earned money...</td>\n",
       "      <td>1</td>\n",
       "      <td>tkolu</td>\n",
       "      <td>0.0</td>\n",
       "      <td>1613458484</td>\n",
       "      <td>https://www.reddit.com/r/wallstreetbets/commen...</td>\n",
       "      <td>73</td>\n",
       "      <td>2021-02-16</td>\n",
       "    </tr>\n",
       "    <tr>\n",
       "      <th>261</th>\n",
       "      <td>lky552</td>\n",
       "      <td>Hiding shorts by ETF's?</td>\n",
       "      <td>1</td>\n",
       "      <td>--X0X0--</td>\n",
       "      <td>0.0</td>\n",
       "      <td>1613458201</td>\n",
       "      <td>https://www.reddit.com/r/wallstreetbets/commen...</td>\n",
       "      <td>139</td>\n",
       "      <td>2021-02-16</td>\n",
       "    </tr>\n",
       "    <tr>\n",
       "      <th>486</th>\n",
       "      <td>lkwazx</td>\n",
       "      <td>Dwight Schrute owns Palantir</td>\n",
       "      <td>1</td>\n",
       "      <td>OGSQ</td>\n",
       "      <td>0.0</td>\n",
       "      <td>1613451488</td>\n",
       "      <td>https://www.reddit.com/r/wallstreetbets/commen...</td>\n",
       "      <td>58</td>\n",
       "      <td>2021-02-16</td>\n",
       "    </tr>\n",
       "  </tbody>\n",
       "</table>\n",
       "</div>"
      ],
      "text/plain": [
       "         id                                              title  score  \\\n",
       "92   lkzviy  I am going to short the whole country of South...      1   \n",
       "185  lkyw58                                   I like the stonk      1   \n",
       "256  lky7u6  When you realize losing your hard earned money...      1   \n",
       "261  lky552                            Hiding shorts by ETF's?      1   \n",
       "486  lkwazx                       Dwight Schrute owns Palantir      1   \n",
       "\n",
       "                  author  total_awards_received  created_utc  \\\n",
       "92   The-Crazed-Crusader                    0.0   1613465649   \n",
       "185    Allgoodnamesinuse                    0.0   1613461282   \n",
       "256                tkolu                    0.0   1613458484   \n",
       "261             --X0X0--                    0.0   1613458201   \n",
       "486                 OGSQ                    0.0   1613451488   \n",
       "\n",
       "                                             full_link  num_comments  \\\n",
       "92   https://www.reddit.com/r/wallstreetbets/commen...           114   \n",
       "185  https://www.reddit.com/r/wallstreetbets/commen...            50   \n",
       "256  https://www.reddit.com/r/wallstreetbets/commen...            73   \n",
       "261  https://www.reddit.com/r/wallstreetbets/commen...           139   \n",
       "486  https://www.reddit.com/r/wallstreetbets/commen...            58   \n",
       "\n",
       "           date  \n",
       "92   2021-02-16  \n",
       "185  2021-02-16  \n",
       "256  2021-02-16  \n",
       "261  2021-02-16  \n",
       "486  2021-02-16  "
      ]
     },
     "execution_count": 10,
     "metadata": {},
     "output_type": "execute_result"
    }
   ],
   "source": [
    "df.head(5)"
   ]
  },
  {
   "cell_type": "markdown",
   "metadata": {
    "papermill": {
     "duration": 0.037162,
     "end_time": "2021-04-17T01:17:08.424874",
     "exception": false,
     "start_time": "2021-04-17T01:17:08.387712",
     "status": "completed"
    },
    "tags": []
   },
   "source": [
    "# Vader Sentiment Scores"
   ]
  },
  {
   "cell_type": "code",
   "execution_count": 11,
   "metadata": {
    "execution": {
     "iopub.execute_input": "2021-04-17T01:17:08.505122Z",
     "iopub.status.busy": "2021-04-17T01:17:08.504437Z",
     "iopub.status.idle": "2021-04-17T01:17:08.524356Z",
     "shell.execute_reply": "2021-04-17T01:17:08.523664Z"
    },
    "papermill": {
     "duration": 0.062566,
     "end_time": "2021-04-17T01:17:08.524503",
     "exception": false,
     "start_time": "2021-04-17T01:17:08.461937",
     "status": "completed"
    },
    "tags": []
   },
   "outputs": [],
   "source": [
    "# Calculate polarity scores\n",
    "sia = SIA()\n",
    "# baseline compound is pos if >= 0.05, neg if <= -0.05 and neu else\n",
    "# change baseline to 0 for binary classification\n",
    "def calculate_sentiment(text):\n",
    "    pol_score = sia.polarity_scores(text)\n",
    "    if pol_score['compound'] >= 0.05:\n",
    "        return 1\n",
    "    elif pol_score['compound'] <= -0.05:\n",
    "        return -1\n",
    "    else:\n",
    "        return 0"
   ]
  },
  {
   "cell_type": "code",
   "execution_count": 12,
   "metadata": {
    "execution": {
     "iopub.execute_input": "2021-04-17T01:17:08.600902Z",
     "iopub.status.busy": "2021-04-17T01:17:08.600239Z",
     "iopub.status.idle": "2021-04-17T01:17:32.390585Z",
     "shell.execute_reply": "2021-04-17T01:17:32.389835Z"
    },
    "papermill": {
     "duration": 23.831205,
     "end_time": "2021-04-17T01:17:32.390750",
     "exception": false,
     "start_time": "2021-04-17T01:17:08.559545",
     "status": "completed"
    },
    "tags": []
   },
   "outputs": [
    {
     "name": "stderr",
     "output_type": "stream",
     "text": [
      "/opt/conda/lib/python3.7/site-packages/ipykernel_launcher.py:2: SettingWithCopyWarning: \n",
      "A value is trying to be set on a copy of a slice from a DataFrame.\n",
      "Try using .loc[row_indexer,col_indexer] = value instead\n",
      "\n",
      "See the caveats in the documentation: https://pandas.pydata.org/pandas-docs/stable/user_guide/indexing.html#returning-a-view-versus-a-copy\n",
      "  \n",
      "/opt/conda/lib/python3.7/site-packages/ipykernel_launcher.py:3: SettingWithCopyWarning: \n",
      "A value is trying to be set on a copy of a slice from a DataFrame.\n",
      "Try using .loc[row_indexer,col_indexer] = value instead\n",
      "\n",
      "See the caveats in the documentation: https://pandas.pydata.org/pandas-docs/stable/user_guide/indexing.html#returning-a-view-versus-a-copy\n",
      "  This is separate from the ipykernel package so we can avoid doing imports until\n"
     ]
    },
    {
     "data": {
      "text/html": [
       "<div>\n",
       "<style scoped>\n",
       "    .dataframe tbody tr th:only-of-type {\n",
       "        vertical-align: middle;\n",
       "    }\n",
       "\n",
       "    .dataframe tbody tr th {\n",
       "        vertical-align: top;\n",
       "    }\n",
       "\n",
       "    .dataframe thead th {\n",
       "        text-align: right;\n",
       "    }\n",
       "</style>\n",
       "<table border=\"1\" class=\"dataframe\">\n",
       "  <thead>\n",
       "    <tr style=\"text-align: right;\">\n",
       "      <th></th>\n",
       "      <th>id</th>\n",
       "      <th>title</th>\n",
       "      <th>score</th>\n",
       "      <th>author</th>\n",
       "      <th>total_awards_received</th>\n",
       "      <th>created_utc</th>\n",
       "      <th>full_link</th>\n",
       "      <th>num_comments</th>\n",
       "      <th>date</th>\n",
       "      <th>sentiment</th>\n",
       "      <th>compound</th>\n",
       "    </tr>\n",
       "  </thead>\n",
       "  <tbody>\n",
       "    <tr>\n",
       "      <th>92</th>\n",
       "      <td>lkzviy</td>\n",
       "      <td>I am going to short the whole country of South...</td>\n",
       "      <td>1</td>\n",
       "      <td>The-Crazed-Crusader</td>\n",
       "      <td>0.0</td>\n",
       "      <td>1613465649</td>\n",
       "      <td>https://www.reddit.com/r/wallstreetbets/commen...</td>\n",
       "      <td>114</td>\n",
       "      <td>2021-02-16</td>\n",
       "      <td>0</td>\n",
       "      <td>0.0000</td>\n",
       "    </tr>\n",
       "    <tr>\n",
       "      <th>185</th>\n",
       "      <td>lkyw58</td>\n",
       "      <td>I like the stonk</td>\n",
       "      <td>1</td>\n",
       "      <td>Allgoodnamesinuse</td>\n",
       "      <td>0.0</td>\n",
       "      <td>1613461282</td>\n",
       "      <td>https://www.reddit.com/r/wallstreetbets/commen...</td>\n",
       "      <td>50</td>\n",
       "      <td>2021-02-16</td>\n",
       "      <td>1</td>\n",
       "      <td>0.3612</td>\n",
       "    </tr>\n",
       "    <tr>\n",
       "      <th>256</th>\n",
       "      <td>lky7u6</td>\n",
       "      <td>When you realize losing your hard earned money...</td>\n",
       "      <td>1</td>\n",
       "      <td>tkolu</td>\n",
       "      <td>0.0</td>\n",
       "      <td>1613458484</td>\n",
       "      <td>https://www.reddit.com/r/wallstreetbets/commen...</td>\n",
       "      <td>73</td>\n",
       "      <td>2021-02-16</td>\n",
       "      <td>-1</td>\n",
       "      <td>-0.4588</td>\n",
       "    </tr>\n",
       "  </tbody>\n",
       "</table>\n",
       "</div>"
      ],
      "text/plain": [
       "         id                                              title  score  \\\n",
       "92   lkzviy  I am going to short the whole country of South...      1   \n",
       "185  lkyw58                                   I like the stonk      1   \n",
       "256  lky7u6  When you realize losing your hard earned money...      1   \n",
       "\n",
       "                  author  total_awards_received  created_utc  \\\n",
       "92   The-Crazed-Crusader                    0.0   1613465649   \n",
       "185    Allgoodnamesinuse                    0.0   1613461282   \n",
       "256                tkolu                    0.0   1613458484   \n",
       "\n",
       "                                             full_link  num_comments  \\\n",
       "92   https://www.reddit.com/r/wallstreetbets/commen...           114   \n",
       "185  https://www.reddit.com/r/wallstreetbets/commen...            50   \n",
       "256  https://www.reddit.com/r/wallstreetbets/commen...            73   \n",
       "\n",
       "           date  sentiment  compound  \n",
       "92   2021-02-16          0    0.0000  \n",
       "185  2021-02-16          1    0.3612  \n",
       "256  2021-02-16         -1   -0.4588  "
      ]
     },
     "execution_count": 12,
     "metadata": {},
     "output_type": "execute_result"
    }
   ],
   "source": [
    "# add sentiment and compound col to df\n",
    "df['sentiment'] = df.apply(lambda x: calculate_sentiment(x.title), axis=1)\n",
    "df['compound'] = df.apply(lambda x: sia.polarity_scores(x.title)['compound'], axis=1)\n",
    "df.head(3)"
   ]
  },
  {
   "cell_type": "code",
   "execution_count": 13,
   "metadata": {
    "execution": {
     "iopub.execute_input": "2021-04-17T01:17:32.476187Z",
     "iopub.status.busy": "2021-04-17T01:17:32.475541Z",
     "iopub.status.idle": "2021-04-17T01:17:32.515333Z",
     "shell.execute_reply": "2021-04-17T01:17:32.514635Z"
    },
    "papermill": {
     "duration": 0.083757,
     "end_time": "2021-04-17T01:17:32.515478",
     "exception": false,
     "start_time": "2021-04-17T01:17:32.431721",
     "status": "completed"
    },
    "tags": []
   },
   "outputs": [
    {
     "data": {
      "text/plain": [
       " 0    31448\n",
       " 1    15434\n",
       "-1    12662\n",
       "Name: sentiment, dtype: int64"
      ]
     },
     "execution_count": 13,
     "metadata": {},
     "output_type": "execute_result"
    }
   ],
   "source": [
    "# counting sentiments \n",
    "sentiments = [-1, 0, 1]\n",
    "sentiments_count = [sum(df.sentiment == -1), sum(df.sentiment == 0), sum(df.sentiment == 1)]\n",
    "df.sentiment.value_counts()"
   ]
  },
  {
   "cell_type": "markdown",
   "metadata": {
    "papermill": {
     "duration": 0.038591,
     "end_time": "2021-04-17T01:17:32.595277",
     "exception": false,
     "start_time": "2021-04-17T01:17:32.556686",
     "status": "completed"
    },
    "tags": []
   },
   "source": [
    "# TextBlob Sentiment Scores"
   ]
  },
  {
   "cell_type": "code",
   "execution_count": 14,
   "metadata": {
    "execution": {
     "iopub.execute_input": "2021-04-17T01:17:32.683548Z",
     "iopub.status.busy": "2021-04-17T01:17:32.682821Z",
     "iopub.status.idle": "2021-04-17T01:17:49.407148Z",
     "shell.execute_reply": "2021-04-17T01:17:49.407739Z"
    },
    "papermill": {
     "duration": 16.77097,
     "end_time": "2021-04-17T01:17:49.407922",
     "exception": false,
     "start_time": "2021-04-17T01:17:32.636952",
     "status": "completed"
    },
    "tags": []
   },
   "outputs": [
    {
     "name": "stderr",
     "output_type": "stream",
     "text": [
      "/opt/conda/lib/python3.7/site-packages/ipykernel_launcher.py:24: SettingWithCopyWarning: \n",
      "A value is trying to be set on a copy of a slice from a DataFrame.\n",
      "Try using .loc[row_indexer,col_indexer] = value instead\n",
      "\n",
      "See the caveats in the documentation: https://pandas.pydata.org/pandas-docs/stable/user_guide/indexing.html#returning-a-view-versus-a-copy\n"
     ]
    }
   ],
   "source": [
    "# Calculating TextBlob Scores\n",
    "\n",
    "from textblob import TextBlob\n",
    "\n",
    "def calculate_sentiment_tb(text,compound=True):\n",
    "    '''\n",
    "    text: string input\n",
    "    compound: if true, return compound score. Otherwise return -1, 0, or 1\n",
    "    \n",
    "    '''\n",
    "    blob = TextBlob(text)\n",
    "    \n",
    "    if compound: \n",
    "        return blob.polarity\n",
    "    \n",
    "    else: \n",
    "        if blob.polarity >= 0.05:\n",
    "            return 1\n",
    "        elif blob.polarity <= -0.05:\n",
    "            return -1\n",
    "        else:\n",
    "            return 0\n",
    "        \n",
    "df['tb_sentiment'] = df.apply(lambda x: calculate_sentiment_tb(x.title), axis=1)"
   ]
  },
  {
   "cell_type": "code",
   "execution_count": 15,
   "metadata": {
    "execution": {
     "iopub.execute_input": "2021-04-17T01:17:49.505379Z",
     "iopub.status.busy": "2021-04-17T01:17:49.504427Z",
     "iopub.status.idle": "2021-04-17T01:17:49.509299Z",
     "shell.execute_reply": "2021-04-17T01:17:49.509760Z"
    },
    "papermill": {
     "duration": 0.062677,
     "end_time": "2021-04-17T01:17:49.509953",
     "exception": false,
     "start_time": "2021-04-17T01:17:49.447276",
     "status": "completed"
    },
    "tags": []
   },
   "outputs": [
    {
     "data": {
      "text/html": [
       "<div>\n",
       "<style scoped>\n",
       "    .dataframe tbody tr th:only-of-type {\n",
       "        vertical-align: middle;\n",
       "    }\n",
       "\n",
       "    .dataframe tbody tr th {\n",
       "        vertical-align: top;\n",
       "    }\n",
       "\n",
       "    .dataframe thead th {\n",
       "        text-align: right;\n",
       "    }\n",
       "</style>\n",
       "<table border=\"1\" class=\"dataframe\">\n",
       "  <thead>\n",
       "    <tr style=\"text-align: right;\">\n",
       "      <th></th>\n",
       "      <th>id</th>\n",
       "      <th>title</th>\n",
       "      <th>score</th>\n",
       "      <th>author</th>\n",
       "      <th>total_awards_received</th>\n",
       "      <th>created_utc</th>\n",
       "      <th>full_link</th>\n",
       "      <th>num_comments</th>\n",
       "      <th>date</th>\n",
       "      <th>sentiment</th>\n",
       "      <th>compound</th>\n",
       "      <th>tb_sentiment</th>\n",
       "    </tr>\n",
       "  </thead>\n",
       "  <tbody>\n",
       "    <tr>\n",
       "      <th>92</th>\n",
       "      <td>lkzviy</td>\n",
       "      <td>I am going to short the whole country of South...</td>\n",
       "      <td>1</td>\n",
       "      <td>The-Crazed-Crusader</td>\n",
       "      <td>0.0</td>\n",
       "      <td>1613465649</td>\n",
       "      <td>https://www.reddit.com/r/wallstreetbets/commen...</td>\n",
       "      <td>114</td>\n",
       "      <td>2021-02-16</td>\n",
       "      <td>0</td>\n",
       "      <td>0.0000</td>\n",
       "      <td>0.100000</td>\n",
       "    </tr>\n",
       "    <tr>\n",
       "      <th>185</th>\n",
       "      <td>lkyw58</td>\n",
       "      <td>I like the stonk</td>\n",
       "      <td>1</td>\n",
       "      <td>Allgoodnamesinuse</td>\n",
       "      <td>0.0</td>\n",
       "      <td>1613461282</td>\n",
       "      <td>https://www.reddit.com/r/wallstreetbets/commen...</td>\n",
       "      <td>50</td>\n",
       "      <td>2021-02-16</td>\n",
       "      <td>1</td>\n",
       "      <td>0.3612</td>\n",
       "      <td>0.000000</td>\n",
       "    </tr>\n",
       "    <tr>\n",
       "      <th>256</th>\n",
       "      <td>lky7u6</td>\n",
       "      <td>When you realize losing your hard earned money...</td>\n",
       "      <td>1</td>\n",
       "      <td>tkolu</td>\n",
       "      <td>0.0</td>\n",
       "      <td>1613458484</td>\n",
       "      <td>https://www.reddit.com/r/wallstreetbets/commen...</td>\n",
       "      <td>73</td>\n",
       "      <td>2021-02-16</td>\n",
       "      <td>-1</td>\n",
       "      <td>-0.4588</td>\n",
       "      <td>-0.395833</td>\n",
       "    </tr>\n",
       "  </tbody>\n",
       "</table>\n",
       "</div>"
      ],
      "text/plain": [
       "         id                                              title  score  \\\n",
       "92   lkzviy  I am going to short the whole country of South...      1   \n",
       "185  lkyw58                                   I like the stonk      1   \n",
       "256  lky7u6  When you realize losing your hard earned money...      1   \n",
       "\n",
       "                  author  total_awards_received  created_utc  \\\n",
       "92   The-Crazed-Crusader                    0.0   1613465649   \n",
       "185    Allgoodnamesinuse                    0.0   1613461282   \n",
       "256                tkolu                    0.0   1613458484   \n",
       "\n",
       "                                             full_link  num_comments  \\\n",
       "92   https://www.reddit.com/r/wallstreetbets/commen...           114   \n",
       "185  https://www.reddit.com/r/wallstreetbets/commen...            50   \n",
       "256  https://www.reddit.com/r/wallstreetbets/commen...            73   \n",
       "\n",
       "           date  sentiment  compound  tb_sentiment  \n",
       "92   2021-02-16          0    0.0000      0.100000  \n",
       "185  2021-02-16          1    0.3612      0.000000  \n",
       "256  2021-02-16         -1   -0.4588     -0.395833  "
      ]
     },
     "execution_count": 15,
     "metadata": {},
     "output_type": "execute_result"
    }
   ],
   "source": [
    "df.head(3)"
   ]
  },
  {
   "cell_type": "markdown",
   "metadata": {
    "papermill": {
     "duration": 0.043391,
     "end_time": "2021-04-17T01:17:49.597097",
     "exception": false,
     "start_time": "2021-04-17T01:17:49.553706",
     "status": "completed"
    },
    "tags": []
   },
   "source": [
    "# Finding stock tickers in posts"
   ]
  },
  {
   "cell_type": "code",
   "execution_count": 16,
   "metadata": {
    "execution": {
     "iopub.execute_input": "2021-04-17T01:17:49.687752Z",
     "iopub.status.busy": "2021-04-17T01:17:49.687107Z",
     "iopub.status.idle": "2021-04-17T01:17:49.689639Z",
     "shell.execute_reply": "2021-04-17T01:17:49.690081Z"
    },
    "papermill": {
     "duration": 0.051775,
     "end_time": "2021-04-17T01:17:49.690276",
     "exception": false,
     "start_time": "2021-04-17T01:17:49.638501",
     "status": "completed"
    },
    "tags": []
   },
   "outputs": [],
   "source": [
    "# stocks to find,\n",
    "stocks = ['SPY', 'GME', 'AMC', 'TSLA', 'PLTR', 'APPL', 'AMD', 'BB', 'AMZN', 'NIO', 'NVDA', 'MU', 'RH', 'SNAP', 'NOK', 'SPCE']\n",
    "company_names = {'S&P': 'SPY', 'GAMESTOP': 'GME', 'AMC': 'AMC', 'TESLA': 'TSLA', 'PALANTIR': 'PLTR', 'APPLE': 'APPL', 'AMD': 'AMD', 'BLACKBERRY': 'BB',\n",
    "                 'AMAZON': 'AMZN', 'NIO': 'NIO', 'NVIDIA': 'NVDA', 'MICRON': 'MU', 'RESTORATION': 'RH', 'SNAPCHAT': 'SNAP', 'NOKIA': 'NOK', 'VIRGIN': \"SPCE\"}"
   ]
  },
  {
   "cell_type": "code",
   "execution_count": 17,
   "metadata": {
    "execution": {
     "iopub.execute_input": "2021-04-17T01:17:49.780876Z",
     "iopub.status.busy": "2021-04-17T01:17:49.780061Z",
     "iopub.status.idle": "2021-04-17T01:17:49.785579Z",
     "shell.execute_reply": "2021-04-17T01:17:49.784894Z"
    },
    "papermill": {
     "duration": 0.055167,
     "end_time": "2021-04-17T01:17:49.785748",
     "exception": false,
     "start_time": "2021-04-17T01:17:49.730581",
     "status": "completed"
    },
    "tags": []
   },
   "outputs": [
    {
     "name": "stdout",
     "output_type": "stream",
     "text": [
      "['S&P', 'GAMESTOP', 'AMC', 'TESLA', 'PALANTIR', 'APPLE', 'AMD', 'BLACKBERRY', 'AMAZON', 'NIO', 'NVIDIA', 'MICRON', 'RESTORATION', 'SNAPCHAT', 'NOKIA', 'VIRGIN']\n"
     ]
    }
   ],
   "source": [
    "print(list(company_names))"
   ]
  },
  {
   "cell_type": "code",
   "execution_count": 18,
   "metadata": {
    "execution": {
     "iopub.execute_input": "2021-04-17T01:17:49.904287Z",
     "iopub.status.busy": "2021-04-17T01:17:49.877701Z",
     "iopub.status.idle": "2021-04-17T01:17:50.292484Z",
     "shell.execute_reply": "2021-04-17T01:17:50.291782Z"
    },
    "papermill": {
     "duration": 0.465826,
     "end_time": "2021-04-17T01:17:50.292631",
     "exception": false,
     "start_time": "2021-04-17T01:17:49.826805",
     "status": "completed"
    },
    "tags": []
   },
   "outputs": [],
   "source": [
    "# pattern matching with most frequent stocks \n",
    "nlp_freq = sp.blank('en')\n",
    "matcher_freq = PhraseMatcher(nlp_freq.vocab, attr='TEXT')\n",
    "freq_token_list = [nlp_freq(item) for item in stocks + list(company_names)]\n",
    "matcher_freq.add('Freq Stocks', freq_token_list)"
   ]
  },
  {
   "cell_type": "code",
   "execution_count": 19,
   "metadata": {
    "execution": {
     "iopub.execute_input": "2021-04-17T01:17:50.383181Z",
     "iopub.status.busy": "2021-04-17T01:17:50.382203Z",
     "iopub.status.idle": "2021-04-17T01:17:50.385369Z",
     "shell.execute_reply": "2021-04-17T01:17:50.384703Z"
    },
    "papermill": {
     "duration": 0.05234,
     "end_time": "2021-04-17T01:17:50.385533",
     "exception": false,
     "start_time": "2021-04-17T01:17:50.333193",
     "status": "completed"
    },
    "tags": []
   },
   "outputs": [],
   "source": [
    "# find tickers and company names only from specified list\n",
    "def find_tickers_and_names(title):\n",
    "    '''\n",
    "    Find all ticker and names of companies in the text specified in the company_names list\n",
    "    and append all found tickers to a string \n",
    "    '''\n",
    "    doc = nlp_freq(title.upper())\n",
    "    matches = matcher_freq(doc)\n",
    "    found_items = set([str(doc[match[1]: match[2]]).replace(' ', '') for match in matches])\n",
    "    tickers_list = set()\n",
    "    for item in found_items:\n",
    "        if item in company_names:\n",
    "            tickers_list.add(company_names[item])\n",
    "        else:\n",
    "            tickers_list.add(item)\n",
    "    for ticker in tickers_list:\n",
    "        ticker_freq[ticker] += 1\n",
    "    return '_'.join(tickers_list)"
   ]
  },
  {
   "cell_type": "code",
   "execution_count": 20,
   "metadata": {
    "execution": {
     "iopub.execute_input": "2021-04-17T01:17:50.474749Z",
     "iopub.status.busy": "2021-04-17T01:17:50.473765Z",
     "iopub.status.idle": "2021-04-17T01:17:50.477526Z",
     "shell.execute_reply": "2021-04-17T01:17:50.476950Z"
    },
    "papermill": {
     "duration": 0.048354,
     "end_time": "2021-04-17T01:17:50.477670",
     "exception": false,
     "start_time": "2021-04-17T01:17:50.429316",
     "status": "completed"
    },
    "tags": []
   },
   "outputs": [],
   "source": [
    "# # pattern matching with imported tickers from sec\n",
    "# nlp = sp.blank('en')\n",
    "# matcher = PhraseMatcher(nlp.vocab, attr='TEXT')\n",
    "# ticker_token_list = [nlp(item) for item in list(tickers.symbol)]\n",
    "# # print(ticker_token_list)\n",
    "# matcher.add('Ticker', ticker_token_list)\n",
    "\n",
    "# # find all tickers mentioned in title of each post\n",
    "# ticker_freq = Counter()\n",
    "# def find_tickers(title):\n",
    "#     doc = nlp(title)\n",
    "#     matches = matcher(doc)\n",
    "#     found_items = set([str(doc[match[1]: match[2]]).replace(' ', '') for match in matches])\n",
    "#     tickers_list = set()\n",
    "#     for item in found_items:\n",
    "#         if item in company_names:\n",
    "#             tickers_list.add(company_names[item])\n",
    "#         else:\n",
    "#             tickers_list.add(item)\n",
    "#     for ticker in tickers_list:\n",
    "#         ticker_freq[ticker] += 1\n",
    "#     return '_'.join(tickers_list)"
   ]
  },
  {
   "cell_type": "code",
   "execution_count": 21,
   "metadata": {
    "execution": {
     "iopub.execute_input": "2021-04-17T01:17:50.567427Z",
     "iopub.status.busy": "2021-04-17T01:17:50.566716Z",
     "iopub.status.idle": "2021-04-17T01:17:57.855270Z",
     "shell.execute_reply": "2021-04-17T01:17:57.855863Z"
    },
    "papermill": {
     "duration": 7.336073,
     "end_time": "2021-04-17T01:17:57.856047",
     "exception": false,
     "start_time": "2021-04-17T01:17:50.519974",
     "status": "completed"
    },
    "tags": []
   },
   "outputs": [
    {
     "name": "stdout",
     "output_type": "stream",
     "text": [
      "Counter({'GME': 3685, 'TSLA': 2085, 'SPY': 1044, 'AMD': 799, 'AMC': 780, 'PLTR': 683, 'MU': 617, 'BB': 569, 'AMZN': 548, 'SNAP': 406, 'APPL': 338, 'NIO': 309, 'NOK': 309, 'NVDA': 300, 'RH': 296, 'SPCE': 264}) 13032\n"
     ]
    },
    {
     "name": "stderr",
     "output_type": "stream",
     "text": [
      "/opt/conda/lib/python3.7/site-packages/ipykernel_launcher.py:3: SettingWithCopyWarning: \n",
      "A value is trying to be set on a copy of a slice from a DataFrame.\n",
      "Try using .loc[row_indexer,col_indexer] = value instead\n",
      "\n",
      "See the caveats in the documentation: https://pandas.pydata.org/pandas-docs/stable/user_guide/indexing.html#returning-a-view-versus-a-copy\n",
      "  This is separate from the ipykernel package so we can avoid doing imports until\n"
     ]
    }
   ],
   "source": [
    "# add the column orgs to df which consists of a string of all tickers found in the post\n",
    "ticker_freq = Counter()\n",
    "df['orgs'] = df.apply(lambda x: find_tickers_and_names(x.title), axis=1)\n",
    "print(ticker_freq, sum(ticker_freq.values()))"
   ]
  },
  {
   "cell_type": "code",
   "execution_count": 22,
   "metadata": {
    "execution": {
     "iopub.execute_input": "2021-04-17T01:17:57.961843Z",
     "iopub.status.busy": "2021-04-17T01:17:57.960497Z",
     "iopub.status.idle": "2021-04-17T01:17:58.018181Z",
     "shell.execute_reply": "2021-04-17T01:17:58.017542Z"
    },
    "papermill": {
     "duration": 0.115979,
     "end_time": "2021-04-17T01:17:58.018357",
     "exception": false,
     "start_time": "2021-04-17T01:17:57.902378",
     "status": "completed"
    },
    "tags": []
   },
   "outputs": [
    {
     "name": "stdout",
     "output_type": "stream",
     "text": [
      "(11924, 13)\n"
     ]
    },
    {
     "data": {
      "text/html": [
       "<div>\n",
       "<style scoped>\n",
       "    .dataframe tbody tr th:only-of-type {\n",
       "        vertical-align: middle;\n",
       "    }\n",
       "\n",
       "    .dataframe tbody tr th {\n",
       "        vertical-align: top;\n",
       "    }\n",
       "\n",
       "    .dataframe thead th {\n",
       "        text-align: right;\n",
       "    }\n",
       "</style>\n",
       "<table border=\"1\" class=\"dataframe\">\n",
       "  <thead>\n",
       "    <tr style=\"text-align: right;\">\n",
       "      <th></th>\n",
       "      <th>id</th>\n",
       "      <th>title</th>\n",
       "      <th>score</th>\n",
       "      <th>author</th>\n",
       "      <th>total_awards_received</th>\n",
       "      <th>created_utc</th>\n",
       "      <th>full_link</th>\n",
       "      <th>num_comments</th>\n",
       "      <th>date</th>\n",
       "      <th>sentiment</th>\n",
       "      <th>compound</th>\n",
       "      <th>tb_sentiment</th>\n",
       "      <th>orgs</th>\n",
       "    </tr>\n",
       "  </thead>\n",
       "  <tbody>\n",
       "    <tr>\n",
       "      <th>486</th>\n",
       "      <td>lkwazx</td>\n",
       "      <td>Dwight Schrute owns Palantir</td>\n",
       "      <td>1</td>\n",
       "      <td>OGSQ</td>\n",
       "      <td>0.0</td>\n",
       "      <td>1613451488</td>\n",
       "      <td>https://www.reddit.com/r/wallstreetbets/commen...</td>\n",
       "      <td>58</td>\n",
       "      <td>2021-02-16</td>\n",
       "      <td>0</td>\n",
       "      <td>0.0000</td>\n",
       "      <td>0.000000</td>\n",
       "      <td>PLTR</td>\n",
       "    </tr>\n",
       "    <tr>\n",
       "      <th>526</th>\n",
       "      <td>lkw043</td>\n",
       "      <td>200K PLTR YOLO.</td>\n",
       "      <td>11</td>\n",
       "      <td>tqqq-ftw</td>\n",
       "      <td>0.0</td>\n",
       "      <td>1613450434</td>\n",
       "      <td>https://www.reddit.com/r/wallstreetbets/commen...</td>\n",
       "      <td>121</td>\n",
       "      <td>2021-02-16</td>\n",
       "      <td>1</td>\n",
       "      <td>0.2732</td>\n",
       "      <td>0.000000</td>\n",
       "      <td>PLTR</td>\n",
       "    </tr>\n",
       "    <tr>\n",
       "      <th>731</th>\n",
       "      <td>lkujx7</td>\n",
       "      <td>AMD strong upside for this week.</td>\n",
       "      <td>7</td>\n",
       "      <td>BeardlessPete</td>\n",
       "      <td>1.0</td>\n",
       "      <td>1613445651</td>\n",
       "      <td>https://www.reddit.com/r/wallstreetbets/commen...</td>\n",
       "      <td>60</td>\n",
       "      <td>2021-02-16</td>\n",
       "      <td>1</td>\n",
       "      <td>0.5106</td>\n",
       "      <td>0.433333</td>\n",
       "      <td>AMD</td>\n",
       "    </tr>\n",
       "    <tr>\n",
       "      <th>807</th>\n",
       "      <td>lktxjx</td>\n",
       "      <td>XRT is being used to hide GME shorts. XRT curr...</td>\n",
       "      <td>219</td>\n",
       "      <td>saliym1988</td>\n",
       "      <td>7.0</td>\n",
       "      <td>1613443702</td>\n",
       "      <td>https://www.reddit.com/r/wallstreetbets/commen...</td>\n",
       "      <td>434</td>\n",
       "      <td>2021-02-16</td>\n",
       "      <td>-1</td>\n",
       "      <td>-0.3147</td>\n",
       "      <td>0.000000</td>\n",
       "      <td>GME</td>\n",
       "    </tr>\n",
       "    <tr>\n",
       "      <th>884</th>\n",
       "      <td>lktele</td>\n",
       "      <td>GME Should Go Bankrupt</td>\n",
       "      <td>36</td>\n",
       "      <td>this_is_trash_really</td>\n",
       "      <td>2.0</td>\n",
       "      <td>1613441999</td>\n",
       "      <td>https://www.reddit.com/r/wallstreetbets/commen...</td>\n",
       "      <td>804</td>\n",
       "      <td>2021-02-16</td>\n",
       "      <td>-1</td>\n",
       "      <td>-0.5574</td>\n",
       "      <td>0.000000</td>\n",
       "      <td>GME</td>\n",
       "    </tr>\n",
       "  </tbody>\n",
       "</table>\n",
       "</div>"
      ],
      "text/plain": [
       "         id                                              title  score  \\\n",
       "486  lkwazx                       Dwight Schrute owns Palantir      1   \n",
       "526  lkw043                                    200K PLTR YOLO.     11   \n",
       "731  lkujx7                   AMD strong upside for this week.      7   \n",
       "807  lktxjx  XRT is being used to hide GME shorts. XRT curr...    219   \n",
       "884  lktele                             GME Should Go Bankrupt     36   \n",
       "\n",
       "                   author  total_awards_received  created_utc  \\\n",
       "486                  OGSQ                    0.0   1613451488   \n",
       "526              tqqq-ftw                    0.0   1613450434   \n",
       "731         BeardlessPete                    1.0   1613445651   \n",
       "807            saliym1988                    7.0   1613443702   \n",
       "884  this_is_trash_really                    2.0   1613441999   \n",
       "\n",
       "                                             full_link  num_comments  \\\n",
       "486  https://www.reddit.com/r/wallstreetbets/commen...            58   \n",
       "526  https://www.reddit.com/r/wallstreetbets/commen...           121   \n",
       "731  https://www.reddit.com/r/wallstreetbets/commen...            60   \n",
       "807  https://www.reddit.com/r/wallstreetbets/commen...           434   \n",
       "884  https://www.reddit.com/r/wallstreetbets/commen...           804   \n",
       "\n",
       "           date  sentiment  compound  tb_sentiment  orgs  \n",
       "486  2021-02-16          0    0.0000      0.000000  PLTR  \n",
       "526  2021-02-16          1    0.2732      0.000000  PLTR  \n",
       "731  2021-02-16          1    0.5106      0.433333   AMD  \n",
       "807  2021-02-16         -1   -0.3147      0.000000   GME  \n",
       "884  2021-02-16         -1   -0.5574      0.000000   GME  "
      ]
     },
     "execution_count": 22,
     "metadata": {},
     "output_type": "execute_result"
    }
   ],
   "source": [
    "# create new dataframe for only posts with specific organizations mentioned\n",
    "df_stocks = df[df.orgs != '']\n",
    "print(df_stocks.shape)\n",
    "df_stocks.head(5)"
   ]
  },
  {
   "cell_type": "markdown",
   "metadata": {
    "papermill": {
     "duration": 0.047218,
     "end_time": "2021-04-17T01:17:58.112869",
     "exception": false,
     "start_time": "2021-04-17T01:17:58.065651",
     "status": "completed"
    },
    "tags": []
   },
   "source": [
    "# Get posts by stock ticker"
   ]
  },
  {
   "cell_type": "code",
   "execution_count": 23,
   "metadata": {
    "execution": {
     "iopub.execute_input": "2021-04-17T01:17:58.211409Z",
     "iopub.status.busy": "2021-04-17T01:17:58.210056Z",
     "iopub.status.idle": "2021-04-17T01:17:58.213576Z",
     "shell.execute_reply": "2021-04-17T01:17:58.212902Z"
    },
    "papermill": {
     "duration": 0.057628,
     "end_time": "2021-04-17T01:17:58.213730",
     "exception": false,
     "start_time": "2021-04-17T01:17:58.156102",
     "status": "completed"
    },
    "tags": []
   },
   "outputs": [],
   "source": [
    "def get_sentiment_by_stock(dataframe, ticker, sentiment_type='compound'):\n",
    "    '''\n",
    "    get all the sentiment score assosicated with a stock\n",
    "    \n",
    "    ticker: string input\n",
    "    sentiment_type: 'sentiment', 'compound',or 'tb_sentiment'\n",
    "    \n",
    "    '''\n",
    "    cur_df = dataframe.copy()[dataframe.orgs.str.contains(ticker)]\n",
    "    print('{} number of posts:'.format(ticker), cur_df.shape, 'unique dates:', np.unique(cur_df['date'], return_counts=True)[0].shape)\n",
    "    # get average compound score for each date\n",
    "    cur_df_scores = cur_df.groupby(cur_df['date'])[sentiment_type].mean()\n",
    "    cur_df_scores = cur_df_scores.to_frame()\n",
    "    cur_df_scores.reset_index(inplace=True)\n",
    "    return cur_df_scores "
   ]
  },
  {
   "cell_type": "markdown",
   "metadata": {
    "papermill": {
     "duration": 0.042799,
     "end_time": "2021-04-17T01:17:58.297230",
     "exception": false,
     "start_time": "2021-04-17T01:17:58.254431",
     "status": "completed"
    },
    "tags": []
   },
   "source": [
    "Sample for getting posts with GME mentioned"
   ]
  },
  {
   "cell_type": "code",
   "execution_count": 24,
   "metadata": {
    "execution": {
     "iopub.execute_input": "2021-04-17T01:17:58.390105Z",
     "iopub.status.busy": "2021-04-17T01:17:58.386627Z",
     "iopub.status.idle": "2021-04-17T01:17:58.423548Z",
     "shell.execute_reply": "2021-04-17T01:17:58.424079Z"
    },
    "papermill": {
     "duration": 0.084275,
     "end_time": "2021-04-17T01:17:58.424320",
     "exception": false,
     "start_time": "2021-04-17T01:17:58.340045",
     "status": "completed"
    },
    "tags": []
   },
   "outputs": [
    {
     "name": "stdout",
     "output_type": "stream",
     "text": [
      "GME number of posts: (3685, 13) unique dates: (192,)\n"
     ]
    },
    {
     "data": {
      "text/plain": [
       "(192, 2)"
      ]
     },
     "execution_count": 24,
     "metadata": {},
     "output_type": "execute_result"
    }
   ],
   "source": [
    "# Sample for getting posts with GME mentioned\n",
    "\n",
    "# # Specify Stock of interest here\n",
    "df_gme_scores = get_sentiment_by_stock(df_stocks, 'GME')\n",
    "df_gme_scores.shape"
   ]
  },
  {
   "cell_type": "markdown",
   "metadata": {
    "papermill": {
     "duration": 0.053523,
     "end_time": "2021-04-17T01:17:58.536316",
     "exception": false,
     "start_time": "2021-04-17T01:17:58.482793",
     "status": "completed"
    },
    "tags": []
   },
   "source": [
    "# Stock Data preprocessing for LSTM model "
   ]
  },
  {
   "cell_type": "code",
   "execution_count": 25,
   "metadata": {
    "execution": {
     "iopub.execute_input": "2021-04-17T01:17:58.651387Z",
     "iopub.status.busy": "2021-04-17T01:17:58.625294Z",
     "iopub.status.idle": "2021-04-17T01:18:12.659382Z",
     "shell.execute_reply": "2021-04-17T01:18:12.660226Z"
    },
    "papermill": {
     "duration": 14.081485,
     "end_time": "2021-04-17T01:18:12.660412",
     "exception": false,
     "start_time": "2021-04-17T01:17:58.578927",
     "status": "completed"
    },
    "tags": []
   },
   "outputs": [
    {
     "name": "stdout",
     "output_type": "stream",
     "text": [
      "Collecting yfinance\r\n",
      "  Downloading yfinance-0.1.59.tar.gz (25 kB)\r\n",
      "Requirement already satisfied: pandas>=0.24 in /opt/conda/lib/python3.7/site-packages (from yfinance) (1.2.0)\r\n",
      "Requirement already satisfied: numpy>=1.15 in /opt/conda/lib/python3.7/site-packages (from yfinance) (1.19.5)\r\n",
      "Requirement already satisfied: requests>=2.20 in /opt/conda/lib/python3.7/site-packages (from yfinance) (2.25.1)\r\n",
      "Collecting multitasking>=0.0.7\r\n",
      "  Downloading multitasking-0.0.9.tar.gz (8.1 kB)\r\n",
      "Requirement already satisfied: lxml>=4.5.1 in /opt/conda/lib/python3.7/site-packages (from yfinance) (4.6.2)\r\n",
      "Requirement already satisfied: python-dateutil>=2.7.3 in /opt/conda/lib/python3.7/site-packages (from pandas>=0.24->yfinance) (2.8.1)\r\n",
      "Requirement already satisfied: pytz>=2017.3 in /opt/conda/lib/python3.7/site-packages (from pandas>=0.24->yfinance) (2020.5)\r\n",
      "Requirement already satisfied: six>=1.5 in /opt/conda/lib/python3.7/site-packages (from python-dateutil>=2.7.3->pandas>=0.24->yfinance) (1.15.0)\r\n",
      "Requirement already satisfied: chardet<5,>=3.0.2 in /opt/conda/lib/python3.7/site-packages (from requests>=2.20->yfinance) (3.0.4)\r\n",
      "Requirement already satisfied: urllib3<1.27,>=1.21.1 in /opt/conda/lib/python3.7/site-packages (from requests>=2.20->yfinance) (1.26.2)\r\n",
      "Requirement already satisfied: certifi>=2017.4.17 in /opt/conda/lib/python3.7/site-packages (from requests>=2.20->yfinance) (2020.12.5)\r\n",
      "Requirement already satisfied: idna<3,>=2.5 in /opt/conda/lib/python3.7/site-packages (from requests>=2.20->yfinance) (2.10)\r\n",
      "Building wheels for collected packages: yfinance, multitasking\r\n",
      "  Building wheel for yfinance (setup.py) ... \u001b[?25l-\b \b\\\b \bdone\r\n",
      "\u001b[?25h  Created wheel for yfinance: filename=yfinance-0.1.59-py2.py3-none-any.whl size=23442 sha256=0cde76902daf77382b158cbd093b6535156f9572025a2d090721a8b597791ffc\r\n",
      "  Stored in directory: /root/.cache/pip/wheels/26/af/8b/fac1b47dffef567f945641cdc9b67bb25fae5725d462a8cf81\r\n",
      "  Building wheel for multitasking (setup.py) ... \u001b[?25l-\b \b\\\b \bdone\r\n",
      "\u001b[?25h  Created wheel for multitasking: filename=multitasking-0.0.9-py3-none-any.whl size=8368 sha256=4bbfbd66c7c3da07a1fc60f16f64af8641005b67bce5be4c040d67118302218c\r\n",
      "  Stored in directory: /root/.cache/pip/wheels/ae/25/47/4d68431a7ec1b6c4b5233365934b74c1d4e665bf5f968d363a\r\n",
      "Successfully built yfinance multitasking\r\n",
      "Installing collected packages: multitasking, yfinance\r\n",
      "Successfully installed multitasking-0.0.9 yfinance-0.1.59\r\n"
     ]
    }
   ],
   "source": [
    "!pip install yfinance\n",
    "import yfinance as yf"
   ]
  },
  {
   "cell_type": "code",
   "execution_count": 26,
   "metadata": {
    "execution": {
     "iopub.execute_input": "2021-04-17T01:18:12.774865Z",
     "iopub.status.busy": "2021-04-17T01:18:12.774184Z",
     "iopub.status.idle": "2021-04-17T01:18:12.777711Z",
     "shell.execute_reply": "2021-04-17T01:18:12.777156Z"
    },
    "papermill": {
     "duration": 0.066559,
     "end_time": "2021-04-17T01:18:12.777874",
     "exception": false,
     "start_time": "2021-04-17T01:18:12.711315",
     "status": "completed"
    },
    "tags": []
   },
   "outputs": [],
   "source": [
    "def get_market_data(ticker, df_scores, min_date,drop_NaN=True, cols_to_drop=[]): \n",
    "    '''\n",
    "    get the daily price of a stock with sentiment scores\n",
    "    min_date: earilest date to get price. 'YYYY-MM-DD'\n",
    "    \n",
    "    fills in 'NaN' when market data not available (weekends & holidays) \n",
    "    \n",
    "    '''\n",
    "    ticker = yf.Ticker(ticker)\n",
    "    min_date = pd.to_datetime(min_date).date()\n",
    "    max_date = max(df_scores.date)\n",
    "    # So the yfinance dataset doesn't have data for weekend and bank holidays, will make it NaN where the Date is applicable \n",
    "    hist = ticker.history(start=min_date, end=max_date)\n",
    "    # get all scores with date greater than min_date   \n",
    "    df_scores_date = df_scores[df_scores.date > min_date]\n",
    "    # only drop NaN in date column and not in compound score\n",
    "    if drop_NaN:\n",
    "        # Drop samples with NAs i.e Bank holidays and weekend\n",
    "        df_scores_date = df_scores_date.dropna(subset=['date'])\n",
    "    df_scores_date.set_index('date', inplace=True, drop=True)\n",
    "    #Combine the stock data with the sentiment Compound value\n",
    "    df_wsb = pd.concat([hist, df_scores_date], axis=1)\n",
    "    \n",
    "    # drop specified columns from df\n",
    "    df_wsb = df_wsb.drop(columns=cols_to_drop)\n",
    "    \n",
    "    print('Out of the total days represented in the df {}, only {} days have an existing coumpound score'.format(df_wsb.shape, df_scores.shape))\n",
    "    return df_wsb"
   ]
  },
  {
   "cell_type": "code",
   "execution_count": 27,
   "metadata": {
    "execution": {
     "iopub.execute_input": "2021-04-17T01:18:12.883361Z",
     "iopub.status.busy": "2021-04-17T01:18:12.882231Z",
     "iopub.status.idle": "2021-04-17T01:18:13.488865Z",
     "shell.execute_reply": "2021-04-17T01:18:13.490212Z"
    },
    "papermill": {
     "duration": 0.665298,
     "end_time": "2021-04-17T01:18:13.490423",
     "exception": false,
     "start_time": "2021-04-17T01:18:12.825125",
     "status": "completed"
    },
    "tags": []
   },
   "outputs": [
    {
     "name": "stdout",
     "output_type": "stream",
     "text": [
      "Out of the total days represented in the df (589, 8), only (192, 2) days have an existing coumpound score\n"
     ]
    },
    {
     "data": {
      "text/html": [
       "<div>\n",
       "<style scoped>\n",
       "    .dataframe tbody tr th:only-of-type {\n",
       "        vertical-align: middle;\n",
       "    }\n",
       "\n",
       "    .dataframe tbody tr th {\n",
       "        vertical-align: top;\n",
       "    }\n",
       "\n",
       "    .dataframe thead th {\n",
       "        text-align: right;\n",
       "    }\n",
       "</style>\n",
       "<table border=\"1\" class=\"dataframe\">\n",
       "  <thead>\n",
       "    <tr style=\"text-align: right;\">\n",
       "      <th></th>\n",
       "      <th>Open</th>\n",
       "      <th>High</th>\n",
       "      <th>Low</th>\n",
       "      <th>Close</th>\n",
       "      <th>Volume</th>\n",
       "      <th>Dividends</th>\n",
       "      <th>Stock Splits</th>\n",
       "      <th>compound</th>\n",
       "    </tr>\n",
       "  </thead>\n",
       "  <tbody>\n",
       "    <tr>\n",
       "      <th>2019-01-02</th>\n",
       "      <td>12.041450</td>\n",
       "      <td>12.747496</td>\n",
       "      <td>12.012435</td>\n",
       "      <td>12.641105</td>\n",
       "      <td>2124200.0</td>\n",
       "      <td>0.0</td>\n",
       "      <td>0.0</td>\n",
       "      <td>NaN</td>\n",
       "    </tr>\n",
       "    <tr>\n",
       "      <th>2019-01-03</th>\n",
       "      <td>12.554058</td>\n",
       "      <td>12.824870</td>\n",
       "      <td>12.273574</td>\n",
       "      <td>12.544387</td>\n",
       "      <td>1750400.0</td>\n",
       "      <td>0.0</td>\n",
       "      <td>0.0</td>\n",
       "      <td>NaN</td>\n",
       "    </tr>\n",
       "    <tr>\n",
       "      <th>2019-01-04</th>\n",
       "      <td>13.569602</td>\n",
       "      <td>14.788255</td>\n",
       "      <td>13.250431</td>\n",
       "      <td>14.739896</td>\n",
       "      <td>11915700.0</td>\n",
       "      <td>0.0</td>\n",
       "      <td>0.0</td>\n",
       "      <td>NaN</td>\n",
       "    </tr>\n",
       "    <tr>\n",
       "      <th>2019-01-07</th>\n",
       "      <td>14.614162</td>\n",
       "      <td>15.291192</td>\n",
       "      <td>14.449740</td>\n",
       "      <td>14.972020</td>\n",
       "      <td>4718000.0</td>\n",
       "      <td>0.0</td>\n",
       "      <td>0.0</td>\n",
       "      <td>NaN</td>\n",
       "    </tr>\n",
       "    <tr>\n",
       "      <th>2019-01-08</th>\n",
       "      <td>14.991364</td>\n",
       "      <td>15.368567</td>\n",
       "      <td>14.652849</td>\n",
       "      <td>15.291192</td>\n",
       "      <td>3443800.0</td>\n",
       "      <td>0.0</td>\n",
       "      <td>0.0</td>\n",
       "      <td>NaN</td>\n",
       "    </tr>\n",
       "  </tbody>\n",
       "</table>\n",
       "</div>"
      ],
      "text/plain": [
       "                 Open       High        Low      Close      Volume  Dividends  \\\n",
       "2019-01-02  12.041450  12.747496  12.012435  12.641105   2124200.0        0.0   \n",
       "2019-01-03  12.554058  12.824870  12.273574  12.544387   1750400.0        0.0   \n",
       "2019-01-04  13.569602  14.788255  13.250431  14.739896  11915700.0        0.0   \n",
       "2019-01-07  14.614162  15.291192  14.449740  14.972020   4718000.0        0.0   \n",
       "2019-01-08  14.991364  15.368567  14.652849  15.291192   3443800.0        0.0   \n",
       "\n",
       "            Stock Splits  compound  \n",
       "2019-01-02           0.0       NaN  \n",
       "2019-01-03           0.0       NaN  \n",
       "2019-01-04           0.0       NaN  \n",
       "2019-01-07           0.0       NaN  \n",
       "2019-01-08           0.0       NaN  "
      ]
     },
     "execution_count": 27,
     "metadata": {},
     "output_type": "execute_result"
    }
   ],
   "source": [
    "# Sample for geting the GME market df for lstm\n",
    "df_gme_wsb = get_market_data('GME', df_gme_scores, '2019-01-01', drop_NaN=True)\n",
    "df_gme_wsb.head(5)"
   ]
  },
  {
   "cell_type": "markdown",
   "metadata": {
    "papermill": {
     "duration": 0.051425,
     "end_time": "2021-04-17T01:18:13.598408",
     "exception": false,
     "start_time": "2021-04-17T01:18:13.546983",
     "status": "completed"
    },
    "tags": []
   },
   "source": [
    "Show correlation of features"
   ]
  },
  {
   "cell_type": "code",
   "execution_count": 28,
   "metadata": {
    "execution": {
     "iopub.execute_input": "2021-04-17T01:18:13.727779Z",
     "iopub.status.busy": "2021-04-17T01:18:13.720149Z",
     "iopub.status.idle": "2021-04-17T01:18:13.732822Z",
     "shell.execute_reply": "2021-04-17T01:18:13.733317Z"
    },
    "papermill": {
     "duration": 0.082376,
     "end_time": "2021-04-17T01:18:13.733504",
     "exception": false,
     "start_time": "2021-04-17T01:18:13.651128",
     "status": "completed"
    },
    "tags": []
   },
   "outputs": [
    {
     "data": {
      "text/html": [
       "<div>\n",
       "<style scoped>\n",
       "    .dataframe tbody tr th:only-of-type {\n",
       "        vertical-align: middle;\n",
       "    }\n",
       "\n",
       "    .dataframe tbody tr th {\n",
       "        vertical-align: top;\n",
       "    }\n",
       "\n",
       "    .dataframe thead th {\n",
       "        text-align: right;\n",
       "    }\n",
       "</style>\n",
       "<table border=\"1\" class=\"dataframe\">\n",
       "  <thead>\n",
       "    <tr style=\"text-align: right;\">\n",
       "      <th></th>\n",
       "      <th>Open</th>\n",
       "      <th>High</th>\n",
       "      <th>Low</th>\n",
       "      <th>Close</th>\n",
       "      <th>Volume</th>\n",
       "      <th>Dividends</th>\n",
       "      <th>Stock Splits</th>\n",
       "      <th>compound</th>\n",
       "    </tr>\n",
       "  </thead>\n",
       "  <tbody>\n",
       "    <tr>\n",
       "      <th>Open</th>\n",
       "      <td>1.000000</td>\n",
       "      <td>0.971382</td>\n",
       "      <td>0.982749</td>\n",
       "      <td>0.980962</td>\n",
       "      <td>0.462783</td>\n",
       "      <td>-0.000561</td>\n",
       "      <td>NaN</td>\n",
       "      <td>-0.056139</td>\n",
       "    </tr>\n",
       "    <tr>\n",
       "      <th>High</th>\n",
       "      <td>0.971382</td>\n",
       "      <td>1.000000</td>\n",
       "      <td>0.928190</td>\n",
       "      <td>0.952947</td>\n",
       "      <td>0.514523</td>\n",
       "      <td>-0.001961</td>\n",
       "      <td>NaN</td>\n",
       "      <td>-0.063122</td>\n",
       "    </tr>\n",
       "    <tr>\n",
       "      <th>Low</th>\n",
       "      <td>0.982749</td>\n",
       "      <td>0.928190</td>\n",
       "      <td>1.000000</td>\n",
       "      <td>0.986853</td>\n",
       "      <td>0.493866</td>\n",
       "      <td>0.001679</td>\n",
       "      <td>NaN</td>\n",
       "      <td>-0.055291</td>\n",
       "    </tr>\n",
       "    <tr>\n",
       "      <th>Close</th>\n",
       "      <td>0.980962</td>\n",
       "      <td>0.952947</td>\n",
       "      <td>0.986853</td>\n",
       "      <td>1.000000</td>\n",
       "      <td>0.531151</td>\n",
       "      <td>-0.000447</td>\n",
       "      <td>NaN</td>\n",
       "      <td>-0.057013</td>\n",
       "    </tr>\n",
       "    <tr>\n",
       "      <th>Volume</th>\n",
       "      <td>0.462783</td>\n",
       "      <td>0.514523</td>\n",
       "      <td>0.493866</td>\n",
       "      <td>0.531151</td>\n",
       "      <td>1.000000</td>\n",
       "      <td>-0.014143</td>\n",
       "      <td>NaN</td>\n",
       "      <td>-0.034225</td>\n",
       "    </tr>\n",
       "    <tr>\n",
       "      <th>Dividends</th>\n",
       "      <td>-0.000561</td>\n",
       "      <td>-0.001961</td>\n",
       "      <td>0.001679</td>\n",
       "      <td>-0.000447</td>\n",
       "      <td>-0.014143</td>\n",
       "      <td>1.000000</td>\n",
       "      <td>NaN</td>\n",
       "      <td>NaN</td>\n",
       "    </tr>\n",
       "    <tr>\n",
       "      <th>Stock Splits</th>\n",
       "      <td>NaN</td>\n",
       "      <td>NaN</td>\n",
       "      <td>NaN</td>\n",
       "      <td>NaN</td>\n",
       "      <td>NaN</td>\n",
       "      <td>NaN</td>\n",
       "      <td>NaN</td>\n",
       "      <td>NaN</td>\n",
       "    </tr>\n",
       "    <tr>\n",
       "      <th>compound</th>\n",
       "      <td>-0.056139</td>\n",
       "      <td>-0.063122</td>\n",
       "      <td>-0.055291</td>\n",
       "      <td>-0.057013</td>\n",
       "      <td>-0.034225</td>\n",
       "      <td>NaN</td>\n",
       "      <td>NaN</td>\n",
       "      <td>1.000000</td>\n",
       "    </tr>\n",
       "  </tbody>\n",
       "</table>\n",
       "</div>"
      ],
      "text/plain": [
       "                  Open      High       Low     Close    Volume  Dividends  \\\n",
       "Open          1.000000  0.971382  0.982749  0.980962  0.462783  -0.000561   \n",
       "High          0.971382  1.000000  0.928190  0.952947  0.514523  -0.001961   \n",
       "Low           0.982749  0.928190  1.000000  0.986853  0.493866   0.001679   \n",
       "Close         0.980962  0.952947  0.986853  1.000000  0.531151  -0.000447   \n",
       "Volume        0.462783  0.514523  0.493866  0.531151  1.000000  -0.014143   \n",
       "Dividends    -0.000561 -0.001961  0.001679 -0.000447 -0.014143   1.000000   \n",
       "Stock Splits       NaN       NaN       NaN       NaN       NaN        NaN   \n",
       "compound     -0.056139 -0.063122 -0.055291 -0.057013 -0.034225        NaN   \n",
       "\n",
       "              Stock Splits  compound  \n",
       "Open                   NaN -0.056139  \n",
       "High                   NaN -0.063122  \n",
       "Low                    NaN -0.055291  \n",
       "Close                  NaN -0.057013  \n",
       "Volume                 NaN -0.034225  \n",
       "Dividends              NaN       NaN  \n",
       "Stock Splits           NaN       NaN  \n",
       "compound               NaN  1.000000  "
      ]
     },
     "execution_count": 28,
     "metadata": {},
     "output_type": "execute_result"
    }
   ],
   "source": [
    "df_gme_wsb.corr()"
   ]
  },
  {
   "cell_type": "code",
   "execution_count": 29,
   "metadata": {
    "execution": {
     "iopub.execute_input": "2021-04-17T01:18:13.848019Z",
     "iopub.status.busy": "2021-04-17T01:18:13.846814Z",
     "iopub.status.idle": "2021-04-17T01:18:14.475272Z",
     "shell.execute_reply": "2021-04-17T01:18:14.474727Z"
    },
    "papermill": {
     "duration": 0.687926,
     "end_time": "2021-04-17T01:18:14.475425",
     "exception": false,
     "start_time": "2021-04-17T01:18:13.787499",
     "status": "completed"
    },
    "tags": []
   },
   "outputs": [
    {
     "name": "stdout",
     "output_type": "stream",
     "text": [
      "SPY number of posts: (1044, 13) unique dates: (499,)\n",
      "Out of the total days represented in the df (614, 6), only (499, 2) days have an existing coumpound score\n"
     ]
    }
   ],
   "source": [
    "# Sample for geting SPY market and sentiment data in one line\n",
    "# get spy market and sentiment data \n",
    "df_spy_wsb = get_market_data('SPY', get_sentiment_by_stock(df_stocks, 'SPY'),'2019-01-01', cols_to_drop=['Dividends', 'Stock Splits'], drop_NaN=True)\n",
    "df_spy_wsb.head(5)\n",
    "df_wsb = df_spy_wsb"
   ]
  },
  {
   "cell_type": "markdown",
   "metadata": {
    "papermill": {
     "duration": 0.054388,
     "end_time": "2021-04-17T01:18:14.586595",
     "exception": false,
     "start_time": "2021-04-17T01:18:14.532207",
     "status": "completed"
    },
    "tags": []
   },
   "source": [
    "# LSTM"
   ]
  },
  {
   "cell_type": "markdown",
   "metadata": {
    "papermill": {
     "duration": 0.053235,
     "end_time": "2021-04-17T01:18:14.689536",
     "exception": false,
     "start_time": "2021-04-17T01:18:14.636301",
     "status": "completed"
    },
    "tags": []
   },
   "source": [
    "## LSTM Data Preprocessing and train/test split"
   ]
  },
  {
   "cell_type": "markdown",
   "metadata": {
    "papermill": {
     "duration": 0.055588,
     "end_time": "2021-04-17T01:18:14.798097",
     "exception": false,
     "start_time": "2021-04-17T01:18:14.742509",
     "status": "completed"
    },
    "tags": []
   },
   "source": [
    "Concerns: The sentiment analysis includes weekend and bank holiday data wehn markets are closed. This implementation implements NaN in the stock data when such days occur. Currently I drop those rows as not to pull an error. Also if there were not posts on a specific date, then the sentiment becomes Nan. Therefore i replace the Nans in the 'compound' column with 0."
   ]
  },
  {
   "cell_type": "code",
   "execution_count": 30,
   "metadata": {
    "execution": {
     "iopub.execute_input": "2021-04-17T01:18:14.914226Z",
     "iopub.status.busy": "2021-04-17T01:18:14.913422Z",
     "iopub.status.idle": "2021-04-17T01:18:14.917015Z",
     "shell.execute_reply": "2021-04-17T01:18:14.916288Z"
    },
    "papermill": {
     "duration": 0.065895,
     "end_time": "2021-04-17T01:18:14.917195",
     "exception": false,
     "start_time": "2021-04-17T01:18:14.851300",
     "status": "completed"
    },
    "tags": []
   },
   "outputs": [],
   "source": [
    "from sklearn.preprocessing import MinMaxScaler\n",
    "from sklearn.model_selection import TimeSeriesSplit\n",
    "\n",
    "def get_scaled_X_y(dataset):\n",
    "    '''\n",
    "    apply preprocessing to dataset for lstm model\n",
    "    returns X, y and the X, y minMax transformers for inverse transform \n",
    "    '''\n",
    "    # Replace NA values in compound with 0 to represent neutral sentiment\n",
    "    if 'compound' in dataset:\n",
    "        dataset['compound'] = dataset['compound'].fillna(0)\n",
    "    elif 'tb_sentiment' in dataset:\n",
    "        dataset['tb_sentiment'] = dataset['tb_sentiment'].fillna(0)\n",
    "        \n",
    "    # # Drop samples with NAs i.e Bank holidays and weekend\n",
    "    dataset = dataset.dropna()\n",
    "    \n",
    "    # Set the X and Y arrays from the dataframe\n",
    "    # Change the Open value to the feature we want to predict\n",
    "    y = dataset.Open.values.reshape(-1, 1)\n",
    "    X = dataset.loc[:,dataset.columns!=\"Open\"].values\n",
    "\n",
    "    # Set MinMaxScaler\n",
    "    X_MinMax = MinMaxScaler()\n",
    "    X = X_MinMax.fit_transform(X)\n",
    "\n",
    "    y_MinMax = MinMaxScaler()\n",
    "    y = y_MinMax.fit_transform(y)\n",
    "    return X, y, X_MinMax, y_MinMax"
   ]
  },
  {
   "cell_type": "code",
   "execution_count": 31,
   "metadata": {
    "execution": {
     "iopub.execute_input": "2021-04-17T01:18:15.067859Z",
     "iopub.status.busy": "2021-04-17T01:18:15.061169Z",
     "iopub.status.idle": "2021-04-17T01:18:15.071795Z",
     "shell.execute_reply": "2021-04-17T01:18:15.070906Z"
    },
    "papermill": {
     "duration": 0.095835,
     "end_time": "2021-04-17T01:18:15.072043",
     "exception": false,
     "start_time": "2021-04-17T01:18:14.976208",
     "status": "completed"
    },
    "tags": []
   },
   "outputs": [],
   "source": [
    "def lstm_train_test_split(X, y):\n",
    "    '''\n",
    "    apply time series train test split on lstm data\n",
    "    return X_train, X_test, y_train, y_test\n",
    "    '''\n",
    "    #Initialize Time Series Split \n",
    "    tscv = TimeSeriesSplit()\n",
    "\n",
    "    # If we want to do CV Time Series, we would run the model here in the for loop. It gives the time series split of train and test\n",
    "    print(X.shape)\n",
    "    for train_index, test_index in tscv.split(X):\n",
    "        #print(\"TRAIN:\", train_index, \"TEST:\", test_index)\n",
    "        X_train, X_test = X[train_index], X[test_index]\n",
    "        y_train, y_test = y[train_index], y[test_index]\n",
    "\n",
    "    # This reshapes the X datasets to LSTM format    \n",
    "    X_train_scale = np.reshape(X_train, (X_train.shape[0], X_train.shape[1], 1))\n",
    "    X_test_scale = np.reshape(X_test, (X_test.shape[0], X_test.shape[1], 1))\n",
    "    return X_train_scale, X_test_scale, y_train, y_test"
   ]
  },
  {
   "cell_type": "markdown",
   "metadata": {
    "papermill": {
     "duration": 0.059866,
     "end_time": "2021-04-17T01:18:15.204237",
     "exception": false,
     "start_time": "2021-04-17T01:18:15.144371",
     "status": "completed"
    },
    "tags": []
   },
   "source": [
    "## LSTM Model"
   ]
  },
  {
   "cell_type": "code",
   "execution_count": 32,
   "metadata": {
    "execution": {
     "iopub.execute_input": "2021-04-17T01:18:15.343501Z",
     "iopub.status.busy": "2021-04-17T01:18:15.342434Z",
     "iopub.status.idle": "2021-04-17T01:18:22.262009Z",
     "shell.execute_reply": "2021-04-17T01:18:22.261365Z"
    },
    "papermill": {
     "duration": 6.993218,
     "end_time": "2021-04-17T01:18:22.262189",
     "exception": false,
     "start_time": "2021-04-17T01:18:15.268971",
     "status": "completed"
    },
    "tags": []
   },
   "outputs": [],
   "source": [
    "# Create LSTM trained on sentiment analysis data\n",
    "from keras.models import Sequential\n",
    "from keras.layers import Dense\n",
    "from keras.layers import LSTM\n",
    "from keras.layers import Dropout\n",
    "from keras.optimizers import Adam, SGD \n",
    "from sklearn.metrics import mean_squared_error\n",
    "\n",
    "# Function calls and compiles the LSTM\n",
    "\n",
    "def LSTM_Model(X_input_shape):\n",
    "    \n",
    "    model = Sequential()\n",
    "\n",
    "    model.add(LSTM(units = 50, return_sequences = True, input_shape = (X_input_shape, 1)))\n",
    "    model.add(Dropout(0.2))\n",
    "\n",
    "    model.add(LSTM(units = 50, return_sequences = True))\n",
    "    model.add(Dropout(0.2))\n",
    "\n",
    "    model.add(LSTM(units = 50, return_sequences = True))\n",
    "    model.add(Dropout(0.2))\n",
    "\n",
    "    model.add(LSTM(units = 50))\n",
    "    model.add(Dropout(0.2))\n",
    "\n",
    "    model.add(Dense(1))\n",
    "\n",
    "    model.compile(loss='mean_squared_error', optimizer='adam')\n",
    "    \n",
    "    return model"
   ]
  },
  {
   "cell_type": "code",
   "execution_count": 33,
   "metadata": {
    "execution": {
     "iopub.execute_input": "2021-04-17T01:18:22.376278Z",
     "iopub.status.busy": "2021-04-17T01:18:22.374899Z",
     "iopub.status.idle": "2021-04-17T01:18:22.379746Z",
     "shell.execute_reply": "2021-04-17T01:18:22.378969Z"
    },
    "papermill": {
     "duration": 0.066562,
     "end_time": "2021-04-17T01:18:22.379893",
     "exception": false,
     "start_time": "2021-04-17T01:18:22.313331",
     "status": "completed"
    },
    "tags": []
   },
   "outputs": [],
   "source": [
    "def train_lstm_model(X_train, y_train, X_test, y_test, y_MinMax, batch_size=16, epochs=100):\n",
    "    model = LSTM_Model(X_train.shape[1])\n",
    "\n",
    "    model.fit(X_train, y_train, epochs = epochs, batch_size = batch_size, verbose = 0)\n",
    "    predicted_stock = model.predict(X_test)\n",
    "\n",
    "    # For Regression\n",
    "    testScore = np.sqrt(mean_squared_error(y_MinMax.inverse_transform(y_test)[:], y_MinMax.inverse_transform(predicted_stock)[:, 0]))\n",
    "    print('test score:', testScore)\n",
    "\n",
    "    #For Regression\n",
    "    plt.plot(y_MinMax.inverse_transform(predicted_stock), label = 'Predicted')\n",
    "    plt.plot(y_MinMax.inverse_transform(y_test), label = 'Actual')\n",
    "    plt.legend()\n",
    "    plt.xlabel('Number of days')\n",
    "    plt.ylabel('Price in USD')\n",
    "    plt.title('Predicted Stock Open vs Actual Stock Open'.format)\n",
    "    plt.show()\n",
    "    plt.clf()\n",
    "    plt.cla()\n",
    "    plt.close()\n",
    "    return predicted_stock "
   ]
  },
  {
   "cell_type": "markdown",
   "metadata": {
    "papermill": {
     "duration": 0.053644,
     "end_time": "2021-04-17T01:18:22.485636",
     "exception": false,
     "start_time": "2021-04-17T01:18:22.431992",
     "status": "completed"
    },
    "tags": []
   },
   "source": [
    "## Regression to Classification LSTM\n"
   ]
  },
  {
   "cell_type": "code",
   "execution_count": 34,
   "metadata": {
    "execution": {
     "iopub.execute_input": "2021-04-17T01:18:22.597485Z",
     "iopub.status.busy": "2021-04-17T01:18:22.596804Z",
     "iopub.status.idle": "2021-04-17T01:18:22.600482Z",
     "shell.execute_reply": "2021-04-17T01:18:22.599829Z"
    },
    "papermill": {
     "duration": 0.061834,
     "end_time": "2021-04-17T01:18:22.600644",
     "exception": false,
     "start_time": "2021-04-17T01:18:22.538810",
     "status": "completed"
    },
    "tags": []
   },
   "outputs": [],
   "source": [
    "def get_prediction_acc(y_pred, y_test):\n",
    "    # Convert the difference between the difference between current and previous day to a boolean and then into binary for price movement up or down metric.\n",
    "\n",
    "    #target = 1 * ((df_wsb.Open.iloc[1:] - df_wsb.Open.iloc[:-1].values) > 0)\n",
    "\n",
    "    y_test_bi = 1 * ((y_test[1:] - y_test[:-1]) > 0)\n",
    "\n",
    "    # Do the same for the predicted regression above\n",
    "    predicted_class = 1 * ((y_pred[1:] - y_pred[:-1]) > 0)\n",
    "\n",
    "\n",
    "    # Find accuracy lol\n",
    "    acc = (predicted_class == y_test_bi).mean()\n",
    "\n",
    "    return acc"
   ]
  },
  {
   "cell_type": "markdown",
   "metadata": {
    "papermill": {
     "duration": 0.051221,
     "end_time": "2021-04-17T01:18:22.706272",
     "exception": false,
     "start_time": "2021-04-17T01:18:22.655051",
     "status": "completed"
    },
    "tags": []
   },
   "source": [
    "## Model Training"
   ]
  },
  {
   "cell_type": "code",
   "execution_count": 35,
   "metadata": {
    "execution": {
     "iopub.execute_input": "2021-04-17T01:18:22.820850Z",
     "iopub.status.busy": "2021-04-17T01:18:22.819903Z",
     "iopub.status.idle": "2021-04-17T01:20:03.568103Z",
     "shell.execute_reply": "2021-04-17T01:20:03.568794Z"
    },
    "papermill": {
     "duration": 100.810728,
     "end_time": "2021-04-17T01:20:03.569017",
     "exception": false,
     "start_time": "2021-04-17T01:18:22.758289",
     "status": "completed"
    },
    "tags": []
   },
   "outputs": [
    {
     "name": "stdout",
     "output_type": "stream",
     "text": [
      "SPY number of posts: (1044, 13) unique dates: (499,)\n",
      "Out of the total days represented in the df (614, 6), only (499, 2) days have an existing coumpound score\n",
      "(526, 5)\n",
      "test score: 3.440870624578819\n"
     ]
    },
    {
     "data": {
      "image/png": "[encoded data removed]",
      "text/plain": [
       "<Figure size 432x288 with 1 Axes>"
      ]
     },
     "metadata": {
      "needs_background": "light"
     },
     "output_type": "display_data"
    },
    {
     "name": "stdout",
     "output_type": "stream",
     "text": [
      "size of SPY test: (87, 1)\n",
      "SPY acc: 0.7441860465116279\n",
      "**************************************\n",
      "GME number of posts: (3685, 13) unique dates: (192,)\n",
      "Out of the total days represented in the df (589, 6), only (192, 2) days have an existing coumpound score\n",
      "(534, 5)\n",
      "test score: 44.617833496755374\n"
     ]
    },
    {
     "data": {
      "image/png": "[encoded data removed]",
      "text/plain": [
       "<Figure size 432x288 with 1 Axes>"
      ]
     },
     "metadata": {
      "needs_background": "light"
     },
     "output_type": "display_data"
    },
    {
     "name": "stdout",
     "output_type": "stream",
     "text": [
      "size of GME test: (89, 1)\n",
      "GME acc: 0.6363636363636364\n",
      "**************************************\n",
      "TSLA number of posts: (2085, 13) unique dates: (787,)\n",
      "Out of the total days represented in the df (677, 6), only (787, 2) days have an existing coumpound score\n",
      "(534, 5)\n",
      "test score: 69.8619236889638\n"
     ]
    },
    {
     "data": {
      "image/png": "[encoded data removed]",
      "text/plain": [
       "<Figure size 432x288 with 1 Axes>"
      ]
     },
     "metadata": {
      "needs_background": "light"
     },
     "output_type": "display_data"
    },
    {
     "name": "stdout",
     "output_type": "stream",
     "text": [
      "size of TSLA test: (89, 1)\n",
      "TSLA acc: 0.7045454545454546\n",
      "**************************************\n",
      "AMD number of posts: (799, 13) unique dates: (453,)\n",
      "Out of the total days represented in the df (587, 6), only (453, 2) days have an existing coumpound score\n",
      "(534, 5)\n",
      "test score: 2.1138528917796053\n"
     ]
    },
    {
     "data": {
      "image/png": "[encoded data removed]",
      "text/plain": [
       "<Figure size 432x288 with 1 Axes>"
      ]
     },
     "metadata": {
      "needs_background": "light"
     },
     "output_type": "display_data"
    },
    {
     "name": "stdout",
     "output_type": "stream",
     "text": [
      "size of AMD test: (89, 1)\n",
      "AMD acc: 0.7840909090909091\n",
      "**************************************\n",
      "PLTR number of posts: (683, 13) unique dates: (113,)\n",
      "Out of the total days represented in the df (136, 6), only (113, 2) days have an existing coumpound score\n",
      "(94, 5)\n",
      "test score: 2.6879576242985057\n"
     ]
    },
    {
     "data": {
      "image/png": "[encoded data removed]",
      "text/plain": [
       "<Figure size 432x288 with 1 Axes>"
      ]
     },
     "metadata": {
      "needs_background": "light"
     },
     "output_type": "display_data"
    },
    {
     "name": "stdout",
     "output_type": "stream",
     "text": [
      "size of PLTR test: (15, 1)\n",
      "PLTR acc: 0.6428571428571429\n",
      "**************************************\n"
     ]
    }
   ],
   "source": [
    "stocks_to_test = ['SPY', 'GME', 'TSLA', 'AMD', 'PLTR']\n",
    "training_params = {'SPY': {'batch_size': 16, 'epoch':30}, 'GME': {'batch_size': 16, 'epoch':30}, 'TSLA': {'batch_size': 16, 'epoch':30},\n",
    "                   'AMD': {'batch_size': 16, 'epoch':30}, 'PLTR': {'batch_size': 16, 'epoch':30}}\n",
    "for stock in stocks_to_test:\n",
    "    stock_df = get_market_data(stock, get_sentiment_by_stock(df_stocks, stock),'2019-01-01', drop_NaN=True, cols_to_drop=['Dividends', 'Stock Splits'])\n",
    "    X, y,_, y_MinMax = get_scaled_X_y(stock_df)\n",
    "    X_train, X_test, y_train, y_test = lstm_train_test_split(X, y)\n",
    "    predicted_stock = train_lstm_model(X_train, y_train, X_test, y_test, y_MinMax,\n",
    "                                       batch_size=training_params[stock]['batch_size'], epochs=training_params[stock]['epoch'])\n",
    "    print('size of {} test: {}'.format(stock, predicted_stock.shape))\n",
    "    print('{} acc:'.format(stock), get_prediction_acc(predicted_stock, y_test))\n",
    "    print('**************************************')"
   ]
  },
  {
   "cell_type": "code",
   "execution_count": 36,
   "metadata": {
    "execution": {
     "iopub.execute_input": "2021-04-17T01:20:03.718748Z",
     "iopub.status.busy": "2021-04-17T01:20:03.713475Z",
     "iopub.status.idle": "2021-04-17T01:20:25.924936Z",
     "shell.execute_reply": "2021-04-17T01:20:25.925490Z"
    },
    "papermill": {
     "duration": 22.290384,
     "end_time": "2021-04-17T01:20:25.925693",
     "exception": false,
     "start_time": "2021-04-17T01:20:03.635309",
     "status": "completed"
    },
    "tags": []
   },
   "outputs": [
    {
     "name": "stdout",
     "output_type": "stream",
     "text": [
      "SPY number of posts: (1044, 13) unique dates: (499,)\n",
      "Out of the total days represented in the df (614, 6), only (499, 2) days have an existing coumpound score\n",
      "(526, 5)\n",
      "test score: 8.062415551108138\n"
     ]
    },
    {
     "data": {
      "image/png": "[encoded data removed]",
      "text/plain": [
       "<Figure size 432x288 with 1 Axes>"
      ]
     },
     "metadata": {
      "needs_background": "light"
     },
     "output_type": "display_data"
    },
    {
     "name": "stdout",
     "output_type": "stream",
     "text": [
      "size of SPY test: (87, 1)\n",
      "PLTR acc: 0.7441860465116279\n"
     ]
    }
   ],
   "source": [
    "# Example with Textblob sentiment on SPY\n",
    "stock_df = get_market_data('SPY', get_sentiment_by_stock(df_stocks, 'SPY', sentiment_type='tb_sentiment'),'2019-01-01', drop_NaN=True, cols_to_drop=['Dividends', 'Stock Splits'])\n",
    "X, y,_, y_MinMax = get_scaled_X_y(stock_df)\n",
    "X_train, X_test, y_train, y_test = lstm_train_test_split(X, y)\n",
    "predicted_stock = train_lstm_model(X_train, y_train, X_test, y_test, y_MinMax, batch_size=16, epochs=30)\n",
    "print('size of {} test: {}'.format('SPY', predicted_stock.shape))\n",
    "print('{} acc:'.format(stock), get_prediction_acc(predicted_stock, y_test))"
   ]
  },
  {
   "cell_type": "markdown",
   "metadata": {
    "papermill": {
     "duration": 0.068382,
     "end_time": "2021-04-17T01:20:26.061013",
     "exception": false,
     "start_time": "2021-04-17T01:20:25.992631",
     "status": "completed"
    },
    "tags": []
   },
   "source": [
    "# Hyper Parameter Tuning"
   ]
  },
  {
   "cell_type": "code",
   "execution_count": 37,
   "metadata": {
    "execution": {
     "iopub.execute_input": "2021-04-17T01:20:26.199948Z",
     "iopub.status.busy": "2021-04-17T01:20:26.198962Z",
     "iopub.status.idle": "2021-04-17T01:20:26.204332Z",
     "shell.execute_reply": "2021-04-17T01:20:26.205338Z"
    },
    "papermill": {
     "duration": 0.076816,
     "end_time": "2021-04-17T01:20:26.205610",
     "exception": false,
     "start_time": "2021-04-17T01:20:26.128794",
     "status": "completed"
    },
    "tags": []
   },
   "outputs": [],
   "source": [
    "# # Initialize data and stock to hyperparameter tune\n",
    "# stock = 'AMD'\n",
    "# stock_df = get_market_data(stock, get_sentiment_by_stock(df_stocks, stock),'2019-01-01', drop_NaN=True, cols_to_drop=['Dividends', 'Stock Splits'])\n",
    "# X, y,_, y_MinMax = get_scaled_X_y(stock_df)\n",
    "# X_train_scale, X_test_scale, y_train, y_test = lstm_train_test_split(X, y)\n",
    "\n",
    "# # Set epoch range for hyperparameters\n",
    "# epoch_range = range(1000)\n",
    "    \n",
    "# # Parameters for later\n",
    "# opt_epoch = 0\n",
    "# opt_batch = 0\n",
    "# loss_diff = 100\n",
    "\n",
    "# # Set batch sizes for hyperparameters\n",
    "# batch = [16, 32, 64, 128, 256]\n",
    "\n",
    "# # Iterate through batch_size\n",
    "# for j in batch:\n",
    "    \n",
    "#     # Print Batch size to keep in the loop\n",
    "#     print('Batch size: ' + str(j))\n",
    "#     print('-------------------------------------------------------')\n",
    "    \n",
    "#     # Initialize train and test loss for ploting\n",
    "#     train_loss = []\n",
    "#     test_loss = []\n",
    "\n",
    "#     # Initialize model\n",
    "#     model = LSTM_Model(X_train_scale.shape[1])\n",
    "    \n",
    "#     #Iterate through epochs\n",
    "#     for i in epoch_range:\n",
    "        \n",
    "#         # Print epochs every 100 to stay in the loop\n",
    "#         if i % 100 == 0:\n",
    "#             print('Epoch: ' +  str(i))\n",
    "#             print('-------------------------------------------------------')\n",
    "\n",
    "#         # Fit model on an epoch\n",
    "#         model.fit(X_train_scale, y_train, epochs = 1, batch_size = j, verbose = 0)\n",
    "        \n",
    "#         # Predict on the train and test set \n",
    "#         predict_train = model.predict(X_train_scale)\n",
    "#         predict_test = model.predict(X_test_scale)\n",
    "        \n",
    "#         # Obtain MSE fo train and test data\n",
    "#         score_train = mean_squared_error(y_train[:], predict_train[:, 0])\n",
    "#         score_test = mean_squared_error(y_test[:], predict_test[:, 0])\n",
    "        \n",
    "#         # Append value for this epoch to the list\n",
    "#         train_loss.append(score_train)\n",
    "#         test_loss.append(score_test)\n",
    "        \n",
    "#     # Plot train and test loss against the epoch range    \n",
    "#     plt.plot(epoch_range, train_loss, label = 'train_loss')\n",
    "#     plt.plot(epoch_range, test_loss, label = 'test_loss')\n",
    "#     plt.legend()\n",
    "#     plt.title('Batch Size: ' + str(j))\n",
    "#     plt.xlabel('Epochs')\n",
    "#     plt.ylabel('Loss')\n",
    "#     plt.show()\n",
    "    \n",
    "#     # Obtain loss difference array \n",
    "#     loss = (abs(np.array(train_loss) - np.array(test_loss)))\n",
    "    \n",
    "#     # find minimum loss diff in array\n",
    "#     min_loss = min(loss)\n",
    "    \n",
    "    \n",
    "#     # if the minimum loss difference is smaller then the predefined one then replace the optimal epoch, batch size and diff_loss\n",
    "#     if min_loss < loss_diff:\n",
    "#         ind = np.where(loss == min_loss)\n",
    "#         opt_epoch = epoch_range[ind[0][0]]\n",
    "#         opt_batch = j\n",
    "#         loss_diff = min_loss\n",
    "#         print('Best epoch for this batch: ' + str(opt_epoch))\n",
    "#         print('Minimum Loss for this batch: ' + str(loss_diff))\n",
    "\n",
    "# print('-------------------------------------------------------')\n",
    "# # Print out Optimal batch, epoch and the lowest loss difference for hyperparameters\n",
    "# print('Optimal batch: ' + str(opt_batch))\n",
    "# print('Optimal epoch: ' + str(opt_epoch))\n",
    "# print('Lowest Loss dif of Train and Test: ' + str(loss_diff))"
   ]
  }
 ],
 "metadata": {
  "kernelspec": {
   "display_name": "Python 3",
   "language": "python",
   "name": "python3"
  },
  "language_info": {
   "codemirror_mode": {
    "name": "ipython",
    "version": 3
   },
   "file_extension": ".py",
   "mimetype": "text/x-python",
   "name": "python",
   "nbconvert_exporter": "python",
   "pygments_lexer": "ipython3",
   "version": "3.7.9"
  },
  "papermill": {
   "default_parameters": {},
   "duration": 224.947414,
   "end_time": "2021-04-17T01:20:28.292689",
   "environment_variables": {},
   "exception": null,
   "input_path": "__notebook__.ipynb",
   "output_path": "__notebook__.ipynb",
   "parameters": {},
   "start_time": "2021-04-17T01:16:43.345275",
   "version": "2.2.2"
  }
 },
 "nbformat": 4,
 "nbformat_minor": 4
}
